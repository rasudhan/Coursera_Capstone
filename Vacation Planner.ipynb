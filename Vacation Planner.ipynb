{
 "cells": [
  {
   "cell_type": "markdown",
   "metadata": {},
   "source": [
    "# Capstone Project - The Battle of the Neighborhoods\n",
    "# Vacation Planner using K-Means Clustering\n",
    "### Applied Data Science Capstone by IBM/Coursera"
   ]
  },
  {
   "cell_type": "markdown",
   "metadata": {},
   "source": [
    "## Table of contents\n",
    "* [Introduction: Business Problem](#introduction)\n",
    "* [Data](#data)\n",
    "* [Methodology](#methodology)\n",
    "* [Results](#results)\n",
    "* [Discussion](#discussion)\n",
    "* [Conclusion](#conclusion)"
   ]
  },
  {
   "cell_type": "markdown",
   "metadata": {},
   "source": [
    "\n",
    "\n",
    "## Introduction: Business Problem <a name=\"introduction\"></a>"
   ]
  },
  {
   "cell_type": "markdown",
   "metadata": {},
   "source": [
    "\n",
    "### Background\n",
    "\n",
    "Planning a trip to a destination with as many choices as Los Angeles can be intimidating. Planning is not easy. Especially when it involves traveling to unknown places. \n",
    "\n",
    "There are so many websites and guidebooks you could wade through, that the amount of information is overwhelming. So I've tried to take some of the stress out of the process by organizing the best planning resources for you all in one place. This Los Angeles Vacation Planner will help guide you through the decisions you will need to make to maximize your Los Angeles vacation, whether you are traveling on a tight budget, or looking for a luxury getaway.\n",
    "\n",
    "### Problem\n",
    "\n",
    "In this project we will try to outline optimal travel plans for a city. Specifically, this report will be targeted to travellers interested in finding **popular spots** to visit during their trip to **Los Angeles**, California.\n",
    "\n",
    "Since there are lots of scenic places and spots to visit in Los Angeles, we will try to pick **venues that are most popular in Los Angeles based on Foursquare data**. \n",
    "\n",
    "We will use our data science powers to **generate an itinerary** based on this criteria. \n",
    "\n",
    "### Interest\n",
    "This will be of interest to travellers who have never been to Los Angeles and who would like to make the best use of their time. We will help maximize their vacation with this itinerary, filled with a wide variety of attractions, activities, and dining options that will truly showcase the best of L.A.\n",
    "\n",
    "We will help travelers to plan their travel itinerary. The algorithm should be able to provide an **optimal itinerary recommendation** in terms of *distance* and *popular spots* in the city. \n",
    "\n",
    "This can be extended to any place of interest(city/country). The user can provide a desired place of interest and we will generate a travel plan for them based on popular venues in and around the place of interest."
   ]
  },
  {
   "cell_type": "markdown",
   "metadata": {},
   "source": [
    "## Data <a name=\"data\"></a>"
   ]
  },
  {
   "cell_type": "markdown",
   "metadata": {},
   "source": [
    "Considering the problem, we need to generate a travel itinerary for a trip to Los Angeles. \n",
    "We can obtain data from the following sources:\n",
    "\n",
    " * Popular venues in Los Angeles, California **(from Foursquare API)**\n",
    "\n",
    "Foursquare is a company best known for its eponymous city guide and has the most trusted, crowdsourced recommendations for the best things to eat, see, and do near you. We will be leveraging foursquare data to find the most popular venues in Los Angeles, California to curate our travel itinerary.\n",
    "\n",
    "We need to obtain and clean the data to get a list of popular venues in Los Angeles that contains the following columns:\n",
    " * Venue name, \n",
    " * Venue category, \n",
    " * Venue latitude, and \n",
    " * Venue longitude."
   ]
  },
  {
   "cell_type": "markdown",
   "metadata": {},
   "source": [
    "### Import libraries"
   ]
  },
  {
   "cell_type": "code",
   "execution_count": 14,
   "metadata": {},
   "outputs": [
    {
     "name": "stdout",
     "output_type": "stream",
     "text": [
      "Libraries imported.\n"
     ]
    }
   ],
   "source": [
    "import requests # library to handle requests\n",
    "import pandas as pd # library for data analsysis\n",
    "import numpy as np # library to handle data in a vectorized manner\n",
    "import random # library for random number generation\n",
    "\n",
    "#!conda install -c conda-forge geopy --yes \n",
    "from geopy.geocoders import Nominatim # module to convert an address into latitude and longitude values\n",
    "\n",
    "# libraries for displaying images\n",
    "from IPython.display import Image \n",
    "from IPython.core.display import HTML \n",
    "    \n",
    "# tranforming json file into a pandas dataframe library\n",
    "from pandas.io.json import json_normalize\n",
    "\n",
    "#!conda install -c conda-forge folium=0.5.0 --yes\n",
    "import folium # plotting library\n",
    "\n",
    "print('Libraries imported.')"
   ]
  },
  {
   "cell_type": "markdown",
   "metadata": {},
   "source": [
    "### Obtaining data from Foursquare"
   ]
  },
  {
   "cell_type": "code",
   "execution_count": 15,
   "metadata": {},
   "outputs": [],
   "source": [
    "# @hidden_cell\n",
    "\n",
    "CLIENT_ID = 'JX1EFM0ONRLEAUWS4G32ESMTOXODGMK50FZ4GEE3PY4MA01V' # your Foursquare ID\n",
    "CLIENT_SECRET = 'LUGQWQZRJIC4QBVPD3Z2JIJCQ0QBU1O1MBYXJTPRIQ3R0Q3G' # your Foursquare Secret\n",
    "VERSION = '20200119'"
   ]
  },
  {
   "cell_type": "code",
   "execution_count": 16,
   "metadata": {},
   "outputs": [
    {
     "name": "stdout",
     "output_type": "stream",
     "text": [
      "The coordinates of Los Angeles, CA are 34.0536909, -118.2427666\n"
     ]
    }
   ],
   "source": [
    "city = 'Los Angeles, CA'\n",
    "\n",
    "geolocator = Nominatim(user_agent=\"foursquare_agent\")\n",
    "location = geolocator.geocode(city)\n",
    "latitude = location.latitude\n",
    "longitude = location.longitude\n",
    "print(\"The coordinates of {} are {}, {}\".format(city,latitude, longitude))"
   ]
  },
  {
   "cell_type": "markdown",
   "metadata": {},
   "source": [
    "#### Define the corresponding URL to retrieve a list of popular spots"
   ]
  },
  {
   "cell_type": "code",
   "execution_count": 17,
   "metadata": {},
   "outputs": [
    {
     "name": "stdout",
     "output_type": "stream",
     "text": [
      "https://api.foursquare.com/v2/venues/explore?near=Los Angeles, CA&sortByPopularity=1&client_id=JX1EFM0ONRLEAUWS4G32ESMTOXODGMK50FZ4GEE3PY4MA01V&client_secret=LUGQWQZRJIC4QBVPD3Z2JIJCQ0QBU1O1MBYXJTPRIQ3R0Q3G&v=20200119\n"
     ]
    }
   ],
   "source": [
    "base_url = 'https://api.foursquare.com/v2/'\n",
    "url = base_url + 'venues/explore?near={}&sortByPopularity=1&client_id={}&client_secret={}&v={}'.format(city,CLIENT_ID,CLIENT_SECRET,VERSION)\n",
    "print(url)"
   ]
  },
  {
   "cell_type": "markdown",
   "metadata": {},
   "source": [
    "#### Send the GET request and parse the results"
   ]
  },
  {
   "cell_type": "code",
   "execution_count": 18,
   "metadata": {},
   "outputs": [],
   "source": [
    "results = requests.get(url).json()"
   ]
  },
  {
   "cell_type": "markdown",
   "metadata": {},
   "source": [
    "Let's define a function to get the category type"
   ]
  },
  {
   "cell_type": "code",
   "execution_count": 19,
   "metadata": {},
   "outputs": [],
   "source": [
    "# function that extracts the category of the venue\n",
    "def get_category_type(row):\n",
    "    try:\n",
    "        categories_list = row['categories']\n",
    "    except:\n",
    "        categories_list = row['venue.categories']\n",
    "        \n",
    "    if len(categories_list) == 0:\n",
    "        return None\n",
    "    else:\n",
    "        return categories_list[0]['name']"
   ]
  },
  {
   "cell_type": "markdown",
   "metadata": {},
   "source": [
    "#### Get relevant part of JSON and transform it into a *pandas* dataframe"
   ]
  },
  {
   "cell_type": "markdown",
   "metadata": {},
   "source": [
    "Now we are ready to clean the json and structure it into a *pandas* dataframe."
   ]
  },
  {
   "cell_type": "code",
   "execution_count": 20,
   "metadata": {},
   "outputs": [
    {
     "data": {
      "text/html": [
       "<div>\n",
       "<style scoped>\n",
       "    .dataframe tbody tr th:only-of-type {\n",
       "        vertical-align: middle;\n",
       "    }\n",
       "\n",
       "    .dataframe tbody tr th {\n",
       "        vertical-align: top;\n",
       "    }\n",
       "\n",
       "    .dataframe thead th {\n",
       "        text-align: right;\n",
       "    }\n",
       "</style>\n",
       "<table border=\"1\" class=\"dataframe\">\n",
       "  <thead>\n",
       "    <tr style=\"text-align: right;\">\n",
       "      <th></th>\n",
       "      <th>name</th>\n",
       "      <th>category</th>\n",
       "      <th>lat</th>\n",
       "      <th>lng</th>\n",
       "    </tr>\n",
       "  </thead>\n",
       "  <tbody>\n",
       "    <tr>\n",
       "      <td>0</td>\n",
       "      <td>Universal Studios Hollywood</td>\n",
       "      <td>Theme Park</td>\n",
       "      <td>34.136999</td>\n",
       "      <td>-118.355473</td>\n",
       "    </tr>\n",
       "    <tr>\n",
       "      <td>1</td>\n",
       "      <td>Griffith Park</td>\n",
       "      <td>Park</td>\n",
       "      <td>34.135117</td>\n",
       "      <td>-118.304965</td>\n",
       "    </tr>\n",
       "    <tr>\n",
       "      <td>2</td>\n",
       "      <td>Third Street Promenade</td>\n",
       "      <td>Shopping Plaza</td>\n",
       "      <td>34.015445</td>\n",
       "      <td>-118.496161</td>\n",
       "    </tr>\n",
       "    <tr>\n",
       "      <td>3</td>\n",
       "      <td>Venice Beach</td>\n",
       "      <td>Beach</td>\n",
       "      <td>33.986001</td>\n",
       "      <td>-118.475833</td>\n",
       "    </tr>\n",
       "    <tr>\n",
       "      <td>4</td>\n",
       "      <td>The Grove</td>\n",
       "      <td>Shopping Mall</td>\n",
       "      <td>34.071964</td>\n",
       "      <td>-118.357365</td>\n",
       "    </tr>\n",
       "  </tbody>\n",
       "</table>\n",
       "</div>"
      ],
      "text/plain": [
       "                          name        category        lat         lng\n",
       "0  Universal Studios Hollywood      Theme Park  34.136999 -118.355473\n",
       "1                Griffith Park            Park  34.135117 -118.304965\n",
       "2       Third Street Promenade  Shopping Plaza  34.015445 -118.496161\n",
       "3                 Venice Beach           Beach  33.986001 -118.475833\n",
       "4                    The Grove   Shopping Mall  34.071964 -118.357365"
      ]
     },
     "execution_count": 20,
     "metadata": {},
     "output_type": "execute_result"
    }
   ],
   "source": [
    "# assign relevant part of JSON to venues\n",
    "venues = results['response']['groups'][0]['items']\n",
    "\n",
    "# transform venues into a dataframe\n",
    "nearby_venues = json_normalize(venues)\n",
    "\n",
    "# filter columns that include venue name, categories and anything that is associated with location (lat/long)\n",
    "filtered_columns = ['venue.name', 'venue.categories', 'venue.location.lat', 'venue.location.lng']\n",
    "nearby_venues =nearby_venues.loc[:, filtered_columns]\n",
    "\n",
    "# filter the category for each row\n",
    "nearby_venues['venue.categories'] = nearby_venues.apply(get_category_type, axis=1)\n",
    "\n",
    "# clean columns\n",
    "nearby_venues.columns = [col.split(\".\")[-1] for col in nearby_venues.columns]\n",
    "nearby_venues.rename(columns={'categories':'category'},inplace=True)\n",
    "nearby_venues.head()"
   ]
  },
  {
   "cell_type": "code",
   "execution_count": 21,
   "metadata": {},
   "outputs": [
    {
     "name": "stdout",
     "output_type": "stream",
     "text": [
      "30 venues near Los Angeles, CA were returned by Foursquare.\n"
     ]
    }
   ],
   "source": [
    "print('{} venues near {} were returned by Foursquare.'.format(nearby_venues.shape[0],city))"
   ]
  },
  {
   "cell_type": "markdown",
   "metadata": {},
   "source": [
    "## Methodology <a name=\"methodology\"></a>"
   ]
  },
  {
   "cell_type": "markdown",
   "metadata": {},
   "source": [
    "In this project we will direct our efforts on preparing an itinerary with the most popular venues. We will limit our analysis to 30 most popular venues around Los Angeles.\n",
    "\n",
    "In the first step, we have collected the required **data: location and type (category) of every venue near Los Angeles**. We have also **identified most popular venues** (according to Foursquare categorization).\n",
    "\n",
    "Second step in our analysis will be exploration of '**venues**' across different areas of Los Angeles - we will use **Folium maps** to visualize the popular venues.\n",
    "\n",
    "In the third and final step, we will focus on creating **clusters of venues that are close to each other** (using **k-means clustering**) and generate a travel itinerary based on the number of travel days (vacation period)."
   ]
  },
  {
   "cell_type": "markdown",
   "metadata": {},
   "source": [
    "## Analysis"
   ]
  },
  {
   "cell_type": "markdown",
   "metadata": {},
   "source": [
    "### Exploratory Data Analysis"
   ]
  },
  {
   "cell_type": "markdown",
   "metadata": {},
   "source": [
    "Let's create a scatter plot to visualize the location of all popular venues."
   ]
  },
  {
   "cell_type": "code",
   "execution_count": 38,
   "metadata": {},
   "outputs": [
    {
     "data": {
      "image/png": "[encoded data removed]",
      "text/plain": [
       "<Figure size 432x288 with 1 Axes>"
      ]
     },
     "metadata": {
      "needs_background": "light"
     },
     "output_type": "display_data"
    }
   ],
   "source": [
    "import matplotlib.pyplot as plt\n",
    "plt.scatter(nearby_venues['lat'],nearby_venues['lng'])\n",
    "plt.xlabel('Latitude')\n",
    "plt.ylabel('Longitude')\n",
    "plt.title('Coordinates Scatter plot')\n",
    "plt.show()"
   ]
  },
  {
   "cell_type": "markdown",
   "metadata": {},
   "source": [
    "To get a better understanding, we can create a map of Los Angeles and add the most popular venues as markers (with descriptive labels)."
   ]
  },
  {
   "cell_type": "code",
   "execution_count": 25,
   "metadata": {},
   "outputs": [
    {
     "data": {
      "text/html": [
       "<div style=\"width:100%;\"><div style=\"position:relative;width:100%;height:0;padding-bottom:60%;\"><iframe src=\"data:text/html;charset=utf-8;base64,PCFET0NUWVBFIGh0bWw+CjxoZWFkPiAgICAKICAgIDxtZXRhIGh0dHAtZXF1aXY9ImNvbnRlbnQtdHlwZSIgY29udGVudD0idGV4dC9odG1sOyBjaGFyc2V0PVVURi04IiAvPgogICAgCiAgICAgICAgPHNjcmlwdD4KICAgICAgICAgICAgTF9OT19UT1VDSCA9IGZhbHNlOwogICAgICAgICAgICBMX0RJU0FCTEVfM0QgPSBmYWxzZTsKICAgICAgICA8L3NjcmlwdD4KICAgIAogICAgPHNjcmlwdCBzcmM9Imh0dHBzOi8vY2RuLmpzZGVsaXZyLm5ldC9ucG0vbGVhZmxldEAxLjUuMS9kaXN0L2xlYWZsZXQuanMiPjwvc2NyaXB0PgogICAgPHNjcmlwdCBzcmM9Imh0dHBzOi8vY29kZS5qcXVlcnkuY29tL2pxdWVyeS0xLjEyLjQubWluLmpzIj48L3NjcmlwdD4KICAgIDxzY3JpcHQgc3JjPSJodHRwczovL21heGNkbi5ib290c3RyYXBjZG4uY29tL2Jvb3RzdHJhcC8zLjIuMC9qcy9ib290c3RyYXAubWluLmpzIj48L3NjcmlwdD4KICAgIDxzY3JpcHQgc3JjPSJodHRwczovL2NkbmpzLmNsb3VkZmxhcmUuY29tL2FqYXgvbGlicy9MZWFmbGV0LmF3ZXNvbWUtbWFya2Vycy8yLjAuMi9sZWFmbGV0LmF3ZXNvbWUtbWFya2Vycy5qcyI+PC9zY3JpcHQ+CiAgICA8bGluayByZWw9InN0eWxlc2hlZXQiIGhyZWY9Imh0dHBzOi8vY2RuLmpzZGVsaXZyLm5ldC9ucG0vbGVhZmxldEAxLjUuMS9kaXN0L2xlYWZsZXQuY3NzIi8+CiAgICA8bGluayByZWw9InN0eWxlc2hlZXQiIGhyZWY9Imh0dHBzOi8vbWF4Y2RuLmJvb3RzdHJhcGNkbi5jb20vYm9vdHN0cmFwLzMuMi4wL2Nzcy9ib290c3RyYXAubWluLmNzcyIvPgogICAgPGxpbmsgcmVsPSJzdHlsZXNoZWV0IiBocmVmPSJodHRwczovL21heGNkbi5ib290c3RyYXBjZG4uY29tL2Jvb3RzdHJhcC8zLjIuMC9jc3MvYm9vdHN0cmFwLXRoZW1lLm1pbi5jc3MiLz4KICAgIDxsaW5rIHJlbD0ic3R5bGVzaGVldCIgaHJlZj0iaHR0cHM6Ly9tYXhjZG4uYm9vdHN0cmFwY2RuLmNvbS9mb250LWF3ZXNvbWUvNC42LjMvY3NzL2ZvbnQtYXdlc29tZS5taW4uY3NzIi8+CiAgICA8bGluayByZWw9InN0eWxlc2hlZXQiIGhyZWY9Imh0dHBzOi8vY2RuanMuY2xvdWRmbGFyZS5jb20vYWpheC9saWJzL0xlYWZsZXQuYXdlc29tZS1tYXJrZXJzLzIuMC4yL2xlYWZsZXQuYXdlc29tZS1tYXJrZXJzLmNzcyIvPgogICAgPGxpbmsgcmVsPSJzdHlsZXNoZWV0IiBocmVmPSJodHRwczovL3Jhd2Nkbi5naXRoYWNrLmNvbS9weXRob24tdmlzdWFsaXphdGlvbi9mb2xpdW0vbWFzdGVyL2ZvbGl1bS90ZW1wbGF0ZXMvbGVhZmxldC5hd2Vzb21lLnJvdGF0ZS5jc3MiLz4KICAgIDxzdHlsZT5odG1sLCBib2R5IHt3aWR0aDogMTAwJTtoZWlnaHQ6IDEwMCU7bWFyZ2luOiAwO3BhZGRpbmc6IDA7fTwvc3R5bGU+CiAgICA8c3R5bGU+I21hcCB7cG9zaXRpb246YWJzb2x1dGU7dG9wOjA7Ym90dG9tOjA7cmlnaHQ6MDtsZWZ0OjA7fTwvc3R5bGU+CiAgICAKICAgICAgICAgICAgPG1ldGEgbmFtZT0idmlld3BvcnQiIGNvbnRlbnQ9IndpZHRoPWRldmljZS13aWR0aCwKICAgICAgICAgICAgICAgIGluaXRpYWwtc2NhbGU9MS4wLCBtYXhpbXVtLXNjYWxlPTEuMCwgdXNlci1zY2FsYWJsZT1ubyIgLz4KICAgICAgICAgICAgPHN0eWxlPgogICAgICAgICAgICAgICAgI21hcF84ZGJiMWNlZGRiMDY0M2EyOTdmN2ZiNWZjODE5ZThiNCB7CiAgICAgICAgICAgICAgICAgICAgcG9zaXRpb246IHJlbGF0aXZlOwogICAgICAgICAgICAgICAgICAgIHdpZHRoOiAxMDAuMCU7CiAgICAgICAgICAgICAgICAgICAgaGVpZ2h0OiAxMDAuMCU7CiAgICAgICAgICAgICAgICAgICAgbGVmdDogMC4wJTsKICAgICAgICAgICAgICAgICAgICB0b3A6IDAuMCU7CiAgICAgICAgICAgICAgICB9CiAgICAgICAgICAgIDwvc3R5bGU+CiAgICAgICAgCjwvaGVhZD4KPGJvZHk+ICAgIAogICAgCiAgICAgICAgICAgIDxkaXYgY2xhc3M9ImZvbGl1bS1tYXAiIGlkPSJtYXBfOGRiYjFjZWRkYjA2NDNhMjk3ZjdmYjVmYzgxOWU4YjQiID48L2Rpdj4KICAgICAgICAKPC9ib2R5Pgo8c2NyaXB0PiAgICAKICAgIAogICAgICAgICAgICB2YXIgbWFwXzhkYmIxY2VkZGIwNjQzYTI5N2Y3ZmI1ZmM4MTllOGI0ID0gTC5tYXAoCiAgICAgICAgICAgICAgICAibWFwXzhkYmIxY2VkZGIwNjQzYTI5N2Y3ZmI1ZmM4MTllOGI0IiwKICAgICAgICAgICAgICAgIHsKICAgICAgICAgICAgICAgICAgICBjZW50ZXI6IFszNC4wNTM2OTA5LCAtMTE4LjI0Mjc2NjZdLAogICAgICAgICAgICAgICAgICAgIGNyczogTC5DUlMuRVBTRzM4NTcsCiAgICAgICAgICAgICAgICAgICAgem9vbTogMTEsCiAgICAgICAgICAgICAgICAgICAgem9vbUNvbnRyb2w6IHRydWUsCiAgICAgICAgICAgICAgICAgICAgcHJlZmVyQ2FudmFzOiBmYWxzZSwKICAgICAgICAgICAgICAgIH0KICAgICAgICAgICAgKTsKCiAgICAgICAgICAgIAoKICAgICAgICAKICAgIAogICAgICAgICAgICB2YXIgdGlsZV9sYXllcl8xODgxODhlYzUxZGE0OWY2OWY2MGU1ZDY1ZTI2NTlhOCA9IEwudGlsZUxheWVyKAogICAgICAgICAgICAgICAgImh0dHBzOi8ve3N9LnRpbGUub3BlbnN0cmVldG1hcC5vcmcve3p9L3t4fS97eX0ucG5nIiwKICAgICAgICAgICAgICAgIHsiYXR0cmlidXRpb24iOiAiRGF0YSBieSBcdTAwMjZjb3B5OyBcdTAwM2NhIGhyZWY9XCJodHRwOi8vb3BlbnN0cmVldG1hcC5vcmdcIlx1MDAzZU9wZW5TdHJlZXRNYXBcdTAwM2MvYVx1MDAzZSwgdW5kZXIgXHUwMDNjYSBocmVmPVwiaHR0cDovL3d3dy5vcGVuc3RyZWV0bWFwLm9yZy9jb3B5cmlnaHRcIlx1MDAzZU9EYkxcdTAwM2MvYVx1MDAzZS4iLCAiZGV0ZWN0UmV0aW5hIjogZmFsc2UsICJtYXhOYXRpdmVab29tIjogMTgsICJtYXhab29tIjogMTgsICJtaW5ab29tIjogMCwgIm5vV3JhcCI6IGZhbHNlLCAib3BhY2l0eSI6IDEsICJzdWJkb21haW5zIjogImFiYyIsICJ0bXMiOiBmYWxzZX0KICAgICAgICAgICAgKS5hZGRUbyhtYXBfOGRiYjFjZWRkYjA2NDNhMjk3ZjdmYjVmYzgxOWU4YjQpOwogICAgICAgIAogICAgCiAgICAgICAgICAgIHZhciBtYXJrZXJfYTU3ZGVlNjdmZmIyNGMyYTlmYTU1ZDAwOGFlZDY1MTEgPSBMLm1hcmtlcigKICAgICAgICAgICAgICAgIFszNC4xMzY5OTksIC0xMTguMzU1NDczXSwKICAgICAgICAgICAgICAgIHsiY29sb3IiOiAiYmx1ZSIsICJmaWxsIjogdHJ1ZSwgImZpbGxDb2xvciI6ICIjMzE4NmNjIiwgImZpbGxPcGFjaXR5IjogMC43LCAicGFyc2VIdG1sIjogZmFsc2UsICJyYWRpdXMiOiA1fQogICAgICAgICAgICApLmFkZFRvKG1hcF84ZGJiMWNlZGRiMDY0M2EyOTdmN2ZiNWZjODE5ZThiNCk7CiAgICAgICAgCiAgICAKICAgICAgICB2YXIgcG9wdXBfMTVjMjczYzIyODhhNDhiYmEyNmE5MTE0OGQ2MTEwOTUgPSBMLnBvcHVwKHsibWF4V2lkdGgiOiAiMTAwJSJ9KTsKCiAgICAgICAgCiAgICAgICAgICAgIHZhciBodG1sX2I1MmMwMzg2Mjc1ZDRiOWNhMDdlMWI2NjA4NjE0NGVlID0gJChgPGRpdiBpZD0iaHRtbF9iNTJjMDM4NjI3NWQ0YjljYTA3ZTFiNjYwODYxNDRlZSIgc3R5bGU9IndpZHRoOiAxMDAuMCU7IGhlaWdodDogMTAwLjAlOyI+VW5pdmVyc2FsIFN0dWRpb3MgSG9sbHl3b29kICBDYXRlZ29yeTogVGhlbWUgUGFyazwvZGl2PmApWzBdOwogICAgICAgICAgICBwb3B1cF8xNWMyNzNjMjI4OGE0OGJiYTI2YTkxMTQ4ZDYxMTA5NS5zZXRDb250ZW50KGh0bWxfYjUyYzAzODYyNzVkNGI5Y2EwN2UxYjY2MDg2MTQ0ZWUpOwogICAgICAgIAoKICAgICAgICBtYXJrZXJfYTU3ZGVlNjdmZmIyNGMyYTlmYTU1ZDAwOGFlZDY1MTEuYmluZFBvcHVwKHBvcHVwXzE1YzI3M2MyMjg4YTQ4YmJhMjZhOTExNDhkNjExMDk1KQogICAgICAgIDsKCiAgICAgICAgCiAgICAKICAgIAogICAgICAgICAgICB2YXIgbWFya2VyXzU0M2JmN2Y3Y2ZiYzQ1MDBiM2ZjMzlkMjBiZmVlNzhiID0gTC5tYXJrZXIoCiAgICAgICAgICAgICAgICBbMzQuMTM1MTE2OTY5NTkyODcsIC0xMTguMzA0OTY1NDk2MDYzMjNdLAogICAgICAgICAgICAgICAgeyJjb2xvciI6ICJibHVlIiwgImZpbGwiOiB0cnVlLCAiZmlsbENvbG9yIjogIiMzMTg2Y2MiLCAiZmlsbE9wYWNpdHkiOiAwLjcsICJwYXJzZUh0bWwiOiBmYWxzZSwgInJhZGl1cyI6IDV9CiAgICAgICAgICAgICkuYWRkVG8obWFwXzhkYmIxY2VkZGIwNjQzYTI5N2Y3ZmI1ZmM4MTllOGI0KTsKICAgICAgICAKICAgIAogICAgICAgIHZhciBwb3B1cF9mYjMxMTg1ZDMzNzk0OTAzYTIyNWIzY2FlODIyODUxYSA9IEwucG9wdXAoeyJtYXhXaWR0aCI6ICIxMDAlIn0pOwoKICAgICAgICAKICAgICAgICAgICAgdmFyIGh0bWxfY2NkZmM4MGRhNzMzNDg1OWEyNzI1NzU5ODYwNGYwNzkgPSAkKGA8ZGl2IGlkPSJodG1sX2NjZGZjODBkYTczMzQ4NTlhMjcyNTc1OTg2MDRmMDc5IiBzdHlsZT0id2lkdGg6IDEwMC4wJTsgaGVpZ2h0OiAxMDAuMCU7Ij5HcmlmZml0aCBQYXJrICBDYXRlZ29yeTogUGFyazwvZGl2PmApWzBdOwogICAgICAgICAgICBwb3B1cF9mYjMxMTg1ZDMzNzk0OTAzYTIyNWIzY2FlODIyODUxYS5zZXRDb250ZW50KGh0bWxfY2NkZmM4MGRhNzMzNDg1OWEyNzI1NzU5ODYwNGYwNzkpOwogICAgICAgIAoKICAgICAgICBtYXJrZXJfNTQzYmY3ZjdjZmJjNDUwMGIzZmMzOWQyMGJmZWU3OGIuYmluZFBvcHVwKHBvcHVwX2ZiMzExODVkMzM3OTQ5MDNhMjI1YjNjYWU4MjI4NTFhKQogICAgICAgIDsKCiAgICAgICAgCiAgICAKICAgIAogICAgICAgICAgICB2YXIgbWFya2VyXzNjNjE2MGQ5ZmUzOTQyZmFiN2M4ZTZmMGQ4MTIwZGRhID0gTC5tYXJrZXIoCiAgICAgICAgICAgICAgICBbMzQuMDE1NDQ0NjE3NTg3NDksIC0xMTguNDk2MTYxMzg3NDMxNTNdLAogICAgICAgICAgICAgICAgeyJjb2xvciI6ICJibHVlIiwgImZpbGwiOiB0cnVlLCAiZmlsbENvbG9yIjogIiMzMTg2Y2MiLCAiZmlsbE9wYWNpdHkiOiAwLjcsICJwYXJzZUh0bWwiOiBmYWxzZSwgInJhZGl1cyI6IDV9CiAgICAgICAgICAgICkuYWRkVG8obWFwXzhkYmIxY2VkZGIwNjQzYTI5N2Y3ZmI1ZmM4MTllOGI0KTsKICAgICAgICAKICAgIAogICAgICAgIHZhciBwb3B1cF8wMzcyMjg3OGRmYTk0ZjUwYjdjZDM1YzQ5ZDNkYjJlMSA9IEwucG9wdXAoeyJtYXhXaWR0aCI6ICIxMDAlIn0pOwoKICAgICAgICAKICAgICAgICAgICAgdmFyIGh0bWxfOTJiZTdkNWRkNTQ2NDg0Mjk4YWVhNWZkZTdkMGYwMTMgPSAkKGA8ZGl2IGlkPSJodG1sXzkyYmU3ZDVkZDU0NjQ4NDI5OGFlYTVmZGU3ZDBmMDEzIiBzdHlsZT0id2lkdGg6IDEwMC4wJTsgaGVpZ2h0OiAxMDAuMCU7Ij5UaGlyZCBTdHJlZXQgUHJvbWVuYWRlICBDYXRlZ29yeTogU2hvcHBpbmcgUGxhemE8L2Rpdj5gKVswXTsKICAgICAgICAgICAgcG9wdXBfMDM3MjI4NzhkZmE5NGY1MGI3Y2QzNWM0OWQzZGIyZTEuc2V0Q29udGVudChodG1sXzkyYmU3ZDVkZDU0NjQ4NDI5OGFlYTVmZGU3ZDBmMDEzKTsKICAgICAgICAKCiAgICAgICAgbWFya2VyXzNjNjE2MGQ5ZmUzOTQyZmFiN2M4ZTZmMGQ4MTIwZGRhLmJpbmRQb3B1cChwb3B1cF8wMzcyMjg3OGRmYTk0ZjUwYjdjZDM1YzQ5ZDNkYjJlMSkKICAgICAgICA7CgogICAgICAgIAogICAgCiAgICAKICAgICAgICAgICAgdmFyIG1hcmtlcl9kYjU2OWVjZTUzOWY0YzgzODgwMDM4ZDlhZjI0YTI3MCA9IEwubWFya2VyKAogICAgICAgICAgICAgICAgWzMzLjk4NjAwMDYyMTYzODQwNCwgLTExOC40NzU4MzI5MzkxNDc5NV0sCiAgICAgICAgICAgICAgICB7ImNvbG9yIjogImJsdWUiLCAiZmlsbCI6IHRydWUsICJmaWxsQ29sb3IiOiAiIzMxODZjYyIsICJmaWxsT3BhY2l0eSI6IDAuNywgInBhcnNlSHRtbCI6IGZhbHNlLCAicmFkaXVzIjogNX0KICAgICAgICAgICAgKS5hZGRUbyhtYXBfOGRiYjFjZWRkYjA2NDNhMjk3ZjdmYjVmYzgxOWU4YjQpOwogICAgICAgIAogICAgCiAgICAgICAgdmFyIHBvcHVwX2NmY2Q2ZGExMzYxYTQ1NmRiZmViZmQxZTkxMDRkZDNmID0gTC5wb3B1cCh7Im1heFdpZHRoIjogIjEwMCUifSk7CgogICAgICAgIAogICAgICAgICAgICB2YXIgaHRtbF9iYjdhZGE0NzE2YmY0MTVjODFmM2VmY2I1OGI2YWRhMiA9ICQoYDxkaXYgaWQ9Imh0bWxfYmI3YWRhNDcxNmJmNDE1YzgxZjNlZmNiNThiNmFkYTIiIHN0eWxlPSJ3aWR0aDogMTAwLjAlOyBoZWlnaHQ6IDEwMC4wJTsiPlZlbmljZSBCZWFjaCAgQ2F0ZWdvcnk6IEJlYWNoPC9kaXY+YClbMF07CiAgICAgICAgICAgIHBvcHVwX2NmY2Q2ZGExMzYxYTQ1NmRiZmViZmQxZTkxMDRkZDNmLnNldENvbnRlbnQoaHRtbF9iYjdhZGE0NzE2YmY0MTVjODFmM2VmY2I1OGI2YWRhMik7CiAgICAgICAgCgogICAgICAgIG1hcmtlcl9kYjU2OWVjZTUzOWY0YzgzODgwMDM4ZDlhZjI0YTI3MC5iaW5kUG9wdXAocG9wdXBfY2ZjZDZkYTEzNjFhNDU2ZGJmZWJmZDFlOTEwNGRkM2YpCiAgICAgICAgOwoKICAgICAgICAKICAgIAogICAgCiAgICAgICAgICAgIHZhciBtYXJrZXJfNThkOWJkYTVhNDlmNGJkNDllMjAxNWM0YWI0YmQxMjUgPSBMLm1hcmtlcigKICAgICAgICAgICAgICAgIFszNC4wNzE5NjQzMjcwODYxMywgLTExOC4zNTczNjUxMzEzNzgxNl0sCiAgICAgICAgICAgICAgICB7ImNvbG9yIjogImJsdWUiLCAiZmlsbCI6IHRydWUsICJmaWxsQ29sb3IiOiAiIzMxODZjYyIsICJmaWxsT3BhY2l0eSI6IDAuNywgInBhcnNlSHRtbCI6IGZhbHNlLCAicmFkaXVzIjogNX0KICAgICAgICAgICAgKS5hZGRUbyhtYXBfOGRiYjFjZWRkYjA2NDNhMjk3ZjdmYjVmYzgxOWU4YjQpOwogICAgICAgIAogICAgCiAgICAgICAgdmFyIHBvcHVwXzg2M2MyOTRjZmM1MjQwMTY4OWJjNjE0N2QzYTJhZTNiID0gTC5wb3B1cCh7Im1heFdpZHRoIjogIjEwMCUifSk7CgogICAgICAgIAogICAgICAgICAgICB2YXIgaHRtbF9lZDNhMDVmYzc1NTQ0ODExYTNhZTNmMjU1YWFiZjVmMCA9ICQoYDxkaXYgaWQ9Imh0bWxfZWQzYTA1ZmM3NTU0NDgxMWEzYWUzZjI1NWFhYmY1ZjAiIHN0eWxlPSJ3aWR0aDogMTAwLjAlOyBoZWlnaHQ6IDEwMC4wJTsiPlRoZSBHcm92ZSAgQ2F0ZWdvcnk6IFNob3BwaW5nIE1hbGw8L2Rpdj5gKVswXTsKICAgICAgICAgICAgcG9wdXBfODYzYzI5NGNmYzUyNDAxNjg5YmM2MTQ3ZDNhMmFlM2Iuc2V0Q29udGVudChodG1sX2VkM2EwNWZjNzU1NDQ4MTFhM2FlM2YyNTVhYWJmNWYwKTsKICAgICAgICAKCiAgICAgICAgbWFya2VyXzU4ZDliZGE1YTQ5ZjRiZDQ5ZTIwMTVjNGFiNGJkMTI1LmJpbmRQb3B1cChwb3B1cF84NjNjMjk0Y2ZjNTI0MDE2ODliYzYxNDdkM2EyYWUzYikKICAgICAgICA7CgogICAgICAgIAogICAgCiAgICAKICAgICAgICAgICAgdmFyIG1hcmtlcl9mNzFhZDZiZjQzMWY0Nzk4ODQ0Y2QxM2U4ZDU0MzI4NiA9IEwubWFya2VyKAogICAgICAgICAgICAgICAgWzM0LjAxMzYzNjIyNzg4Njk0LCAtMTE4LjQ5MzkxMTAyNzkwODMzXSwKICAgICAgICAgICAgICAgIHsiY29sb3IiOiAiYmx1ZSIsICJmaWxsIjogdHJ1ZSwgImZpbGxDb2xvciI6ICIjMzE4NmNjIiwgImZpbGxPcGFjaXR5IjogMC43LCAicGFyc2VIdG1sIjogZmFsc2UsICJyYWRpdXMiOiA1fQogICAgICAgICAgICApLmFkZFRvKG1hcF84ZGJiMWNlZGRiMDY0M2EyOTdmN2ZiNWZjODE5ZThiNCk7CiAgICAgICAgCiAgICAKICAgICAgICB2YXIgcG9wdXBfYzk5NWMzNzY3MDVjNDcyNjhjMGMzOTAyZjczZmMwODUgPSBMLnBvcHVwKHsibWF4V2lkdGgiOiAiMTAwJSJ9KTsKCiAgICAgICAgCiAgICAgICAgICAgIHZhciBodG1sX2U3MjhlMzkwMDkyNjQ2Y2ViN2NjY2YzNTQzNTIwMzlmID0gJChgPGRpdiBpZD0iaHRtbF9lNzI4ZTM5MDA5MjY0NmNlYjdjY2NmMzU0MzUyMDM5ZiIgc3R5bGU9IndpZHRoOiAxMDAuMCU7IGhlaWdodDogMTAwLjAlOyI+U2FudGEgTW9uaWNhIFBsYWNlICBDYXRlZ29yeTogU2hvcHBpbmcgTWFsbDwvZGl2PmApWzBdOwogICAgICAgICAgICBwb3B1cF9jOTk1YzM3NjcwNWM0NzI2OGMwYzM5MDJmNzNmYzA4NS5zZXRDb250ZW50KGh0bWxfZTcyOGUzOTAwOTI2NDZjZWI3Y2NjZjM1NDM1MjAzOWYpOwogICAgICAgIAoKICAgICAgICBtYXJrZXJfZjcxYWQ2YmY0MzFmNDc5ODg0NGNkMTNlOGQ1NDMyODYuYmluZFBvcHVwKHBvcHVwX2M5OTVjMzc2NzA1YzQ3MjY4YzBjMzkwMmY3M2ZjMDg1KQogICAgICAgIDsKCiAgICAgICAgCiAgICAKICAgIAogICAgICAgICAgICB2YXIgbWFya2VyX2ZlMDY1ZmVhYWJhMjQ1NGVhYjhhMjAxYTQxZDI3NjZjID0gTC5tYXJrZXIoCiAgICAgICAgICAgICAgICBbMzQuMTM2NTU3NTMwNDI0NjA0LCAtMTE4LjM1NTg4NDU1MjAwMTk1XSwKICAgICAgICAgICAgICAgIHsiY29sb3IiOiAiYmx1ZSIsICJmaWxsIjogdHJ1ZSwgImZpbGxDb2xvciI6ICIjMzE4NmNjIiwgImZpbGxPcGFjaXR5IjogMC43LCAicGFyc2VIdG1sIjogZmFsc2UsICJyYWRpdXMiOiA1fQogICAgICAgICAgICApLmFkZFRvKG1hcF84ZGJiMWNlZGRiMDY0M2EyOTdmN2ZiNWZjODE5ZThiNCk7CiAgICAgICAgCiAgICAKICAgICAgICB2YXIgcG9wdXBfNThhMGFkMDZkYzI2NDcxNjg1ZjhhZDMwM2U3NzVmMDMgPSBMLnBvcHVwKHsibWF4V2lkdGgiOiAiMTAwJSJ9KTsKCiAgICAgICAgCiAgICAgICAgICAgIHZhciBodG1sX2M3N2RiZThmYWVmMDRhZGQ5NTM3YzRmNjE0MDFiYjZhID0gJChgPGRpdiBpZD0iaHRtbF9jNzdkYmU4ZmFlZjA0YWRkOTUzN2M0ZjYxNDAxYmI2YSIgc3R5bGU9IndpZHRoOiAxMDAuMCU7IGhlaWdodDogMTAwLjAlOyI+VW5pdmVyc2FsIFN0dWRpb3MgSG9sbHl3b29kIEdsb2JlIGFuZCBGb3VudGFpbiAgQ2F0ZWdvcnk6IEZvdW50YWluPC9kaXY+YClbMF07CiAgICAgICAgICAgIHBvcHVwXzU4YTBhZDA2ZGMyNjQ3MTY4NWY4YWQzMDNlNzc1ZjAzLnNldENvbnRlbnQoaHRtbF9jNzdkYmU4ZmFlZjA0YWRkOTUzN2M0ZjYxNDAxYmI2YSk7CiAgICAgICAgCgogICAgICAgIG1hcmtlcl9mZTA2NWZlYWFiYTI0NTRlYWI4YTIwMWE0MWQyNzY2Yy5iaW5kUG9wdXAocG9wdXBfNThhMGFkMDZkYzI2NDcxNjg1ZjhhZDMwM2U3NzVmMDMpCiAgICAgICAgOwoKICAgICAgICAKICAgIAogICAgCiAgICAgICAgICAgIHZhciBtYXJrZXJfYWU4ZmRjOTY5ZjUyNGU2OWE1MzUxNGFkOTliODJlODEgPSBMLm1hcmtlcigKICAgICAgICAgICAgICAgIFszNC4wMTMwOTAzMzU3Mzc2MSwgLTExOC40OTgyNjU0Mzk1NTg3NV0sCiAgICAgICAgICAgICAgICB7ImNvbG9yIjogImJsdWUiLCAiZmlsbCI6IHRydWUsICJmaWxsQ29sb3IiOiAiIzMxODZjYyIsICJmaWxsT3BhY2l0eSI6IDAuNywgInBhcnNlSHRtbCI6IGZhbHNlLCAicmFkaXVzIjogNX0KICAgICAgICAgICAgKS5hZGRUbyhtYXBfOGRiYjFjZWRkYjA2NDNhMjk3ZjdmYjVmYzgxOWU4YjQpOwogICAgICAgIAogICAgCiAgICAgICAgdmFyIHBvcHVwXzljODM1Y2EwOGIzYTQ0MThiNTM4Yjk5YzI5NWFkYTk5ID0gTC5wb3B1cCh7Im1heFdpZHRoIjogIjEwMCUifSk7CgogICAgICAgIAogICAgICAgICAgICB2YXIgaHRtbF85Nzk4YmZiYmJmMTA0MmZmYTg0YjlhNGQyNTBlZWNjZSA9ICQoYDxkaXYgaWQ9Imh0bWxfOTc5OGJmYmJiZjEwNDJmZmE4NGI5YTRkMjUwZWVjY2UiIHN0eWxlPSJ3aWR0aDogMTAwLjAlOyBoZWlnaHQ6IDEwMC4wJTsiPlNhbnRhIE1vbmljYSBTdGF0ZSBCZWFjaCAgQ2F0ZWdvcnk6IFN0YXRlIC8gUHJvdmluY2lhbCBQYXJrPC9kaXY+YClbMF07CiAgICAgICAgICAgIHBvcHVwXzljODM1Y2EwOGIzYTQ0MThiNTM4Yjk5YzI5NWFkYTk5LnNldENvbnRlbnQoaHRtbF85Nzk4YmZiYmJmMTA0MmZmYTg0YjlhNGQyNTBlZWNjZSk7CiAgICAgICAgCgogICAgICAgIG1hcmtlcl9hZThmZGM5NjlmNTI0ZTY5YTUzNTE0YWQ5OWI4MmU4MS5iaW5kUG9wdXAocG9wdXBfOWM4MzVjYTA4YjNhNDQxOGI1MzhiOTljMjk1YWRhOTkpCiAgICAgICAgOwoKICAgICAgICAKICAgIAogICAgCiAgICAgICAgICAgIHZhciBtYXJrZXJfMmU4MWI5ODcwMmU4NDM4Y2I2MDAyMzU3ZjZlZGFjYTcgPSBMLm1hcmtlcigKICAgICAgICAgICAgICAgIFszNC4xMTgzNDIxMDU2MjU5NCwgLTExOC4zMDAzNTc0NjA5NzU2M10sCiAgICAgICAgICAgICAgICB7ImNvbG9yIjogImJsdWUiLCAiZmlsbCI6IHRydWUsICJmaWxsQ29sb3IiOiAiIzMxODZjYyIsICJmaWxsT3BhY2l0eSI6IDAuNywgInBhcnNlSHRtbCI6IGZhbHNlLCAicmFkaXVzIjogNX0KICAgICAgICAgICAgKS5hZGRUbyhtYXBfOGRiYjFjZWRkYjA2NDNhMjk3ZjdmYjVmYzgxOWU4YjQpOwogICAgICAgIAogICAgCiAgICAgICAgdmFyIHBvcHVwXzlhMzdmNDVkNmVhZjQ0OWQ5YWYzYTQ1YmUzNWYxMjBiID0gTC5wb3B1cCh7Im1heFdpZHRoIjogIjEwMCUifSk7CgogICAgICAgIAogICAgICAgICAgICB2YXIgaHRtbF83NjFlOTYxNDM0MWY0MmJkYjFiMDA2ZWE3YzdmZWIzMSA9ICQoYDxkaXYgaWQ9Imh0bWxfNzYxZTk2MTQzNDFmNDJiZGIxYjAwNmVhN2M3ZmViMzEiIHN0eWxlPSJ3aWR0aDogMTAwLjAlOyBoZWlnaHQ6IDEwMC4wJTsiPkdyaWZmaXRoIE9ic2VydmF0b3J5ICBDYXRlZ29yeTogT2JzZXJ2YXRvcnk8L2Rpdj5gKVswXTsKICAgICAgICAgICAgcG9wdXBfOWEzN2Y0NWQ2ZWFmNDQ5ZDlhZjNhNDViZTM1ZjEyMGIuc2V0Q29udGVudChodG1sXzc2MWU5NjE0MzQxZjQyYmRiMWIwMDZlYTdjN2ZlYjMxKTsKICAgICAgICAKCiAgICAgICAgbWFya2VyXzJlODFiOTg3MDJlODQzOGNiNjAwMjM1N2Y2ZWRhY2E3LmJpbmRQb3B1cChwb3B1cF85YTM3ZjQ1ZDZlYWY0NDlkOWFmM2E0NWJlMzVmMTIwYikKICAgICAgICA7CgogICAgICAgIAogICAgCiAgICAKICAgICAgICAgICAgdmFyIG1hcmtlcl82ZWQ3ZmJiMDZmZWI0MDlmODJiNTFkNzZjZGYwNDdkMiA9IEwubWFya2VyKAogICAgICAgICAgICAgICAgWzM0LjEzODQ0MywgLTExOC4zNTQwNTZdLAogICAgICAgICAgICAgICAgeyJjb2xvciI6ICJibHVlIiwgImZpbGwiOiB0cnVlLCAiZmlsbENvbG9yIjogIiMzMTg2Y2MiLCAiZmlsbE9wYWNpdHkiOiAwLjcsICJwYXJzZUh0bWwiOiBmYWxzZSwgInJhZGl1cyI6IDV9CiAgICAgICAgICAgICkuYWRkVG8obWFwXzhkYmIxY2VkZGIwNjQzYTI5N2Y3ZmI1ZmM4MTllOGI0KTsKICAgICAgICAKICAgIAogICAgICAgIHZhciBwb3B1cF9jNjU2NzM4NTUxNGQ0NWY1OTUzZTAxMGQ0MGQ2OTJkOSA9IEwucG9wdXAoeyJtYXhXaWR0aCI6ICIxMDAlIn0pOwoKICAgICAgICAKICAgICAgICAgICAgdmFyIGh0bWxfYzAzODE0YTI1ZDk2NDVjNWI3OWFlMzc2NTc2MmFhYWQgPSAkKGA8ZGl2IGlkPSJodG1sX2MwMzgxNGEyNWQ5NjQ1YzViNzlhZTM3NjU3NjJhYWFkIiBzdHlsZT0id2lkdGg6IDEwMC4wJTsgaGVpZ2h0OiAxMDAuMCU7Ij5UaGUgV2l6YXJkaW5nIFdvcmxkIG9mIEhhcnJ5IFBvdHRlciAgQ2F0ZWdvcnk6IFRoZW1lIFBhcmsgUmlkZSAvIEF0dHJhY3Rpb248L2Rpdj5gKVswXTsKICAgICAgICAgICAgcG9wdXBfYzY1NjczODU1MTRkNDVmNTk1M2UwMTBkNDBkNjkyZDkuc2V0Q29udGVudChodG1sX2MwMzgxNGEyNWQ5NjQ1YzViNzlhZTM3NjU3NjJhYWFkKTsKICAgICAgICAKCiAgICAgICAgbWFya2VyXzZlZDdmYmIwNmZlYjQwOWY4MmI1MWQ3NmNkZjA0N2QyLmJpbmRQb3B1cChwb3B1cF9jNjU2NzM4NTUxNGQ0NWY1OTUzZTAxMGQ0MGQ2OTJkOSkKICAgICAgICA7CgogICAgICAgIAogICAgCiAgICAKICAgICAgICAgICAgdmFyIG1hcmtlcl80YzIwZTM0MzkxOTA0ZjEwODc2Y2E1MWEwMTBhYWUyMyA9IEwubWFya2VyKAogICAgICAgICAgICAgICAgWzM0LjA0MzA4NDY5NDUyMDM0NiwgLTExOC4yNjcxOTA5MzEyNDM4Ml0sCiAgICAgICAgICAgICAgICB7ImNvbG9yIjogImJsdWUiLCAiZmlsbCI6IHRydWUsICJmaWxsQ29sb3IiOiAiIzMxODZjYyIsICJmaWxsT3BhY2l0eSI6IDAuNywgInBhcnNlSHRtbCI6IGZhbHNlLCAicmFkaXVzIjogNX0KICAgICAgICAgICAgKS5hZGRUbyhtYXBfOGRiYjFjZWRkYjA2NDNhMjk3ZjdmYjVmYzgxOWU4YjQpOwogICAgICAgIAogICAgCiAgICAgICAgdmFyIHBvcHVwXzk5MGZiODdkNGJhNjQ5MzY5YjJlMTJlOWZlMjc3YjA1ID0gTC5wb3B1cCh7Im1heFdpZHRoIjogIjEwMCUifSk7CgogICAgICAgIAogICAgICAgICAgICB2YXIgaHRtbF8wMTYxMjMzZjg0MTY0NzA0YjVmODJlZWEyZDg4Y2NmMiA9ICQoYDxkaXYgaWQ9Imh0bWxfMDE2MTIzM2Y4NDE2NDcwNGI1ZjgyZWVhMmQ4OGNjZjIiIHN0eWxlPSJ3aWR0aDogMTAwLjAlOyBoZWlnaHQ6IDEwMC4wJTsiPlNUQVBMRVMgQ2VudGVyICBDYXRlZ29yeTogQmFza2V0YmFsbCBTdGFkaXVtPC9kaXY+YClbMF07CiAgICAgICAgICAgIHBvcHVwXzk5MGZiODdkNGJhNjQ5MzY5YjJlMTJlOWZlMjc3YjA1LnNldENvbnRlbnQoaHRtbF8wMTYxMjMzZjg0MTY0NzA0YjVmODJlZWEyZDg4Y2NmMik7CiAgICAgICAgCgogICAgICAgIG1hcmtlcl80YzIwZTM0MzkxOTA0ZjEwODc2Y2E1MWEwMTBhYWUyMy5iaW5kUG9wdXAocG9wdXBfOTkwZmI4N2Q0YmE2NDkzNjliMmUxMmU5ZmUyNzdiMDUpCiAgICAgICAgOwoKICAgICAgICAKICAgIAogICAgCiAgICAgICAgICAgIHZhciBtYXJrZXJfNDhlZDdmZjlhMzdjNGNiODhiMzc5YmQyZDU5OWM3NjEgPSBMLm1hcmtlcigKICAgICAgICAgICAgICAgIFszNC4wODIwMzM5NjAzMDAwNywgLTExOC4zNzg3NjYwOTQ1Nzk4M10sCiAgICAgICAgICAgICAgICB7ImNvbG9yIjogImJsdWUiLCAiZmlsbCI6IHRydWUsICJmaWxsQ29sb3IiOiAiIzMxODZjYyIsICJmaWxsT3BhY2l0eSI6IDAuNywgInBhcnNlSHRtbCI6IGZhbHNlLCAicmFkaXVzIjogNX0KICAgICAgICAgICAgKS5hZGRUbyhtYXBfOGRiYjFjZWRkYjA2NDNhMjk3ZjdmYjVmYzgxOWU4YjQpOwogICAgICAgIAogICAgCiAgICAgICAgdmFyIHBvcHVwXzhlMmMwNjc0NGU1ODRjZDQ4MTQ0NWNkYzQxMDE1YzljID0gTC5wb3B1cCh7Im1heFdpZHRoIjogIjEwMCUifSk7CgogICAgICAgIAogICAgICAgICAgICB2YXIgaHRtbF8zOWMxN2NmYzM0YzY0ZTdjYTIzYWJmZTY5NDY5OTYwOCA9ICQoYDxkaXYgaWQ9Imh0bWxfMzljMTdjZmMzNGM2NGU3Y2EyM2FiZmU2OTQ2OTk2MDgiIHN0eWxlPSJ3aWR0aDogMTAwLjAlOyBoZWlnaHQ6IDEwMC4wJTsiPlVydGggQ2FmZsOpICBDYXRlZ29yeTogQ2Fmw6k8L2Rpdj5gKVswXTsKICAgICAgICAgICAgcG9wdXBfOGUyYzA2NzQ0ZTU4NGNkNDgxNDQ1Y2RjNDEwMTVjOWMuc2V0Q29udGVudChodG1sXzM5YzE3Y2ZjMzRjNjRlN2NhMjNhYmZlNjk0Njk5NjA4KTsKICAgICAgICAKCiAgICAgICAgbWFya2VyXzQ4ZWQ3ZmY5YTM3YzRjYjg4YjM3OWJkMmQ1OTljNzYxLmJpbmRQb3B1cChwb3B1cF84ZTJjMDY3NDRlNTg0Y2Q0ODE0NDVjZGM0MTAxNWM5YykKICAgICAgICA7CgogICAgICAgIAogICAgCiAgICAKICAgICAgICAgICAgdmFyIG1hcmtlcl8yODBhNWNjNDBkZjc0OWQwOWZiOWY0YWJlMThjNzUyOCA9IEwubWFya2VyKAogICAgICAgICAgICAgICAgWzM0LjA2NjQwMjM0NzMxMzM2LCAtMTE4LjQwMDY5MDgyNTcyNTddLAogICAgICAgICAgICAgICAgeyJjb2xvciI6ICJibHVlIiwgImZpbGwiOiB0cnVlLCAiZmlsbENvbG9yIjogIiMzMTg2Y2MiLCAiZmlsbE9wYWNpdHkiOiAwLjcsICJwYXJzZUh0bWwiOiBmYWxzZSwgInJhZGl1cyI6IDV9CiAgICAgICAgICAgICkuYWRkVG8obWFwXzhkYmIxY2VkZGIwNjQzYTI5N2Y3ZmI1ZmM4MTllOGI0KTsKICAgICAgICAKICAgIAogICAgICAgIHZhciBwb3B1cF9iMDkzMWEyMDczNTk0M2ZiYTU0OTczZjU3N2RhMWVkNSA9IEwucG9wdXAoeyJtYXhXaWR0aCI6ICIxMDAlIn0pOwoKICAgICAgICAKICAgICAgICAgICAgdmFyIGh0bWxfNDQyNDg5ODZmMTEzNGEwZWJkMjU5NDkxOWNmMjVjNDAgPSAkKGA8ZGl2IGlkPSJodG1sXzQ0MjQ4OTg2ZjExMzRhMGViZDI1OTQ5MTljZjI1YzQwIiBzdHlsZT0id2lkdGg6IDEwMC4wJTsgaGVpZ2h0OiAxMDAuMCU7Ij5CZXZlcmx5IFdpbHNoaXJlIEhvdGVsIChBIEZvdXIgU2Vhc29ucyBIb3RlbCkgKEJldmVybHkgV2lsc2hpcmUgSG90ZWwpICBDYXRlZ29yeTogSG90ZWw8L2Rpdj5gKVswXTsKICAgICAgICAgICAgcG9wdXBfYjA5MzFhMjA3MzU5NDNmYmE1NDk3M2Y1NzdkYTFlZDUuc2V0Q29udGVudChodG1sXzQ0MjQ4OTg2ZjExMzRhMGViZDI1OTQ5MTljZjI1YzQwKTsKICAgICAgICAKCiAgICAgICAgbWFya2VyXzI4MGE1Y2M0MGRmNzQ5ZDA5ZmI5ZjRhYmUxOGM3NTI4LmJpbmRQb3B1cChwb3B1cF9iMDkzMWEyMDczNTk0M2ZiYTU0OTczZjU3N2RhMWVkNSkKICAgICAgICA7CgogICAgICAgIAogICAgCiAgICAKICAgICAgICAgICAgdmFyIG1hcmtlcl8wNzg3M2I2ZDc0MzE0YzVlYjBjYjAwMDJkOWJjZjZhOSA9IEwubWFya2VyKAogICAgICAgICAgICAgICAgWzM0LjA1MDY3NTAzNjA5NjI2NiwgLTExOC4yNDg3NDA2MTE0NzUyNF0sCiAgICAgICAgICAgICAgICB7ImNvbG9yIjogImJsdWUiLCAiZmlsbCI6IHRydWUsICJmaWxsQ29sb3IiOiAiIzMxODZjYyIsICJmaWxsT3BhY2l0eSI6IDAuNywgInBhcnNlSHRtbCI6IGZhbHNlLCAicmFkaXVzIjogNX0KICAgICAgICAgICAgKS5hZGRUbyhtYXBfOGRiYjFjZWRkYjA2NDNhMjk3ZjdmYjVmYzgxOWU4YjQpOwogICAgICAgIAogICAgCiAgICAgICAgdmFyIHBvcHVwXzk4OGYxMTA2MDBkYTRiZTM5YTE2MzUzNTQ2MzM2NzAwID0gTC5wb3B1cCh7Im1heFdpZHRoIjogIjEwMCUifSk7CgogICAgICAgIAogICAgICAgICAgICB2YXIgaHRtbF8wNTEwYmU3MjM2M2I0NzA2OTUyMzAwYWMwNTA3OTM2ZCA9ICQoYDxkaXYgaWQ9Imh0bWxfMDUxMGJlNzIzNjNiNDcwNjk1MjMwMGFjMDUwNzkzNmQiIHN0eWxlPSJ3aWR0aDogMTAwLjAlOyBoZWlnaHQ6IDEwMC4wJTsiPkdyYW5kIENlbnRyYWwgTWFya2V0ICBDYXRlZ29yeTogTWFya2V0PC9kaXY+YClbMF07CiAgICAgICAgICAgIHBvcHVwXzk4OGYxMTA2MDBkYTRiZTM5YTE2MzUzNTQ2MzM2NzAwLnNldENvbnRlbnQoaHRtbF8wNTEwYmU3MjM2M2I0NzA2OTUyMzAwYWMwNTA3OTM2ZCk7CiAgICAgICAgCgogICAgICAgIG1hcmtlcl8wNzg3M2I2ZDc0MzE0YzVlYjBjYjAwMDJkOWJjZjZhOS5iaW5kUG9wdXAocG9wdXBfOTg4ZjExMDYwMGRhNGJlMzlhMTYzNTM1NDYzMzY3MDApCiAgICAgICAgOwoKICAgICAgICAKICAgIAogICAgCiAgICAgICAgICAgIHZhciBtYXJrZXJfOWMwYWY1ODU0NTQxNGYzM2JhOTNiNGJiNDI5MzU4ZTUgPSBMLm1hcmtlcigKICAgICAgICAgICAgICAgIFszNC4wNzIyNjcxNTE1MjY1LCAtMTE4LjM2MDA3MTMwNjk5NzddLAogICAgICAgICAgICAgICAgeyJjb2xvciI6ICJibHVlIiwgImZpbGwiOiB0cnVlLCAiZmlsbENvbG9yIjogIiMzMTg2Y2MiLCAiZmlsbE9wYWNpdHkiOiAwLjcsICJwYXJzZUh0bWwiOiBmYWxzZSwgInJhZGl1cyI6IDV9CiAgICAgICAgICAgICkuYWRkVG8obWFwXzhkYmIxY2VkZGIwNjQzYTI5N2Y3ZmI1ZmM4MTllOGI0KTsKICAgICAgICAKICAgIAogICAgICAgIHZhciBwb3B1cF9iZDdiY2E0ZjZhZWM0MDg5OTYwNzU1NjdkMTAxMDczMCA9IEwucG9wdXAoeyJtYXhXaWR0aCI6ICIxMDAlIn0pOwoKICAgICAgICAKICAgICAgICAgICAgdmFyIGh0bWxfNGY5OGFmYzVmNDg0NGNjMTliMTk3NTM3ZWI1MGZlMzMgPSAkKGA8ZGl2IGlkPSJodG1sXzRmOThhZmM1ZjQ4NDRjYzE5YjE5NzUzN2ViNTBmZTMzIiBzdHlsZT0id2lkdGg6IDEwMC4wJTsgaGVpZ2h0OiAxMDAuMCU7Ij5UaGUgT3JpZ2luYWwgRmFybWVycyBNYXJrZXQgIENhdGVnb3J5OiBGYXJtZXJzIE1hcmtldDwvZGl2PmApWzBdOwogICAgICAgICAgICBwb3B1cF9iZDdiY2E0ZjZhZWM0MDg5OTYwNzU1NjdkMTAxMDczMC5zZXRDb250ZW50KGh0bWxfNGY5OGFmYzVmNDg0NGNjMTliMTk3NTM3ZWI1MGZlMzMpOwogICAgICAgIAoKICAgICAgICBtYXJrZXJfOWMwYWY1ODU0NTQxNGYzM2JhOTNiNGJiNDI5MzU4ZTUuYmluZFBvcHVwKHBvcHVwX2JkN2JjYTRmNmFlYzQwODk5NjA3NTU2N2QxMDEwNzMwKQogICAgICAgIDsKCiAgICAgICAgCiAgICAKICAgIAogICAgICAgICAgICB2YXIgbWFya2VyX2ZkNTNkN2VmMzZmNjRhZjFhZDUyOWYyYTc4NjViZDg5ID0gTC5tYXJrZXIoCiAgICAgICAgICAgICAgICBbMzQuMTM4NzczLCAtMTE4LjM1MjY4OF0sCiAgICAgICAgICAgICAgICB7ImNvbG9yIjogImJsdWUiLCAiZmlsbCI6IHRydWUsICJmaWxsQ29sb3IiOiAiIzMxODZjYyIsICJmaWxsT3BhY2l0eSI6IDAuNywgInBhcnNlSHRtbCI6IGZhbHNlLCAicmFkaXVzIjogNX0KICAgICAgICAgICAgKS5hZGRUbyhtYXBfOGRiYjFjZWRkYjA2NDNhMjk3ZjdmYjVmYzgxOWU4YjQpOwogICAgICAgIAogICAgCiAgICAgICAgdmFyIHBvcHVwX2RhYzliYmQ1YjAxZjQ2MzhhNjBkMmZhMjZiN2FjZTc3ID0gTC5wb3B1cCh7Im1heFdpZHRoIjogIjEwMCUifSk7CgogICAgICAgIAogICAgICAgICAgICB2YXIgaHRtbF80MTVmOTY2YTRmNTA0NWMwYmRiODljNGY5NjhkOGFjMSA9ICQoYDxkaXYgaWQ9Imh0bWxfNDE1Zjk2NmE0ZjUwNDVjMGJkYjg5YzRmOTY4ZDhhYzEiIHN0eWxlPSJ3aWR0aDogMTAwLjAlOyBoZWlnaHQ6IDEwMC4wJTsiPlN0dWRpbyBUb3VyICBDYXRlZ29yeTogVGhlbWUgUGFyayBSaWRlIC8gQXR0cmFjdGlvbjwvZGl2PmApWzBdOwogICAgICAgICAgICBwb3B1cF9kYWM5YmJkNWIwMWY0NjM4YTYwZDJmYTI2YjdhY2U3Ny5zZXRDb250ZW50KGh0bWxfNDE1Zjk2NmE0ZjUwNDVjMGJkYjg5YzRmOTY4ZDhhYzEpOwogICAgICAgIAoKICAgICAgICBtYXJrZXJfZmQ1M2Q3ZWYzNmY2NGFmMWFkNTI5ZjJhNzg2NWJkODkuYmluZFBvcHVwKHBvcHVwX2RhYzliYmQ1YjAxZjQ2MzhhNjBkMmZhMjZiN2FjZTc3KQogICAgICAgIDsKCiAgICAgICAgCiAgICAKICAgIAogICAgICAgICAgICB2YXIgbWFya2VyXzM2NDdhMzE2YWVjMjQwZDE5MjA0ZDkxM2U1N2RmOGU3ID0gTC5tYXJrZXIoCiAgICAgICAgICAgICAgICBbMzQuMDI1NjU0Nzg4MzQzMjgsIC0xMTguMjg0NjUyNDE3Njc3MjZdLAogICAgICAgICAgICAgICAgeyJjb2xvciI6ICJibHVlIiwgImZpbGwiOiB0cnVlLCAiZmlsbENvbG9yIjogIiMzMTg2Y2MiLCAiZmlsbE9wYWNpdHkiOiAwLjcsICJwYXJzZUh0bWwiOiBmYWxzZSwgInJhZGl1cyI6IDV9CiAgICAgICAgICAgICkuYWRkVG8obWFwXzhkYmIxY2VkZGIwNjQzYTI5N2Y3ZmI1ZmM4MTllOGI0KTsKICAgICAgICAKICAgIAogICAgICAgIHZhciBwb3B1cF8yNDI2Mzg1OGQyYjI0M2IyOGM0ZmQwZDQ1MDU0YzljNCA9IEwucG9wdXAoeyJtYXhXaWR0aCI6ICIxMDAlIn0pOwoKICAgICAgICAKICAgICAgICAgICAgdmFyIGh0bWxfMGVhZDcyNmVhNmQxNGFlNGFiNzhmMWMyOWQ2ZDRkODYgPSAkKGA8ZGl2IGlkPSJodG1sXzBlYWQ3MjZlYTZkMTRhZTRhYjc4ZjFjMjlkNmQ0ZDg2IiBzdHlsZT0id2lkdGg6IDEwMC4wJTsgaGVpZ2h0OiAxMDAuMCU7Ij5VU0MgVmlsbGFnZSAgQ2F0ZWdvcnk6IENvbGxlZ2UgUmVzaWRlbmNlIEhhbGw8L2Rpdj5gKVswXTsKICAgICAgICAgICAgcG9wdXBfMjQyNjM4NThkMmIyNDNiMjhjNGZkMGQ0NTA1NGM5YzQuc2V0Q29udGVudChodG1sXzBlYWQ3MjZlYTZkMTRhZTRhYjc4ZjFjMjlkNmQ0ZDg2KTsKICAgICAgICAKCiAgICAgICAgbWFya2VyXzM2NDdhMzE2YWVjMjQwZDE5MjA0ZDkxM2U1N2RmOGU3LmJpbmRQb3B1cChwb3B1cF8yNDI2Mzg1OGQyYjI0M2IyOGM0ZmQwZDQ1MDU0YzljNCkKICAgICAgICA7CgogICAgICAgIAogICAgCiAgICAKICAgICAgICAgICAgdmFyIG1hcmtlcl8xNmUwODQyMWQ0OGE0YTZiYjM0ZDYzMmU4YzE5YmUwZiA9IEwubWFya2VyKAogICAgICAgICAgICAgICAgWzM0LjExMjczOTIsIC0xMTguMzM4ODU2Ml0sCiAgICAgICAgICAgICAgICB7ImNvbG9yIjogImJsdWUiLCAiZmlsbCI6IHRydWUsICJmaWxsQ29sb3IiOiAiIzMxODZjYyIsICJmaWxsT3BhY2l0eSI6IDAuNywgInBhcnNlSHRtbCI6IGZhbHNlLCAicmFkaXVzIjogNX0KICAgICAgICAgICAgKS5hZGRUbyhtYXBfOGRiYjFjZWRkYjA2NDNhMjk3ZjdmYjVmYzgxOWU4YjQpOwogICAgICAgIAogICAgCiAgICAgICAgdmFyIHBvcHVwXzI0MWRhZmQ0OWVkNDRmOTM4ODE0OTdkYzNlNWZjMTY3ID0gTC5wb3B1cCh7Im1heFdpZHRoIjogIjEwMCUifSk7CgogICAgICAgIAogICAgICAgICAgICB2YXIgaHRtbF9kNTRhZjlkYmJlOWI0ZTY1YTVmMDU4OWRjNmZkZWZjZCA9ICQoYDxkaXYgaWQ9Imh0bWxfZDU0YWY5ZGJiZTliNGU2NWE1ZjA1ODlkYzZmZGVmY2QiIHN0eWxlPSJ3aWR0aDogMTAwLjAlOyBoZWlnaHQ6IDEwMC4wJTsiPlRoZSBIb2xseXdvb2QgQm93bCAgQ2F0ZWdvcnk6IE11c2ljIFZlbnVlPC9kaXY+YClbMF07CiAgICAgICAgICAgIHBvcHVwXzI0MWRhZmQ0OWVkNDRmOTM4ODE0OTdkYzNlNWZjMTY3LnNldENvbnRlbnQoaHRtbF9kNTRhZjlkYmJlOWI0ZTY1YTVmMDU4OWRjNmZkZWZjZCk7CiAgICAgICAgCgogICAgICAgIG1hcmtlcl8xNmUwODQyMWQ0OGE0YTZiYjM0ZDYzMmU4YzE5YmUwZi5iaW5kUG9wdXAocG9wdXBfMjQxZGFmZDQ5ZWQ0NGY5Mzg4MTQ5N2RjM2U1ZmMxNjcpCiAgICAgICAgOwoKICAgICAgICAKICAgIAogICAgCiAgICAgICAgICAgIHZhciBtYXJrZXJfNjExNGMyMDk5OWFlNDYwN2I0Yzk2ZmRhZjJmMTUxOTEgPSBMLm1hcmtlcigKICAgICAgICAgICAgICAgIFszNC4xMzQ4MDYxMDI5ODQ3NzYsIC0xMTguMzQ1MzU4MzQ4MzI4MDJdLAogICAgICAgICAgICAgICAgeyJjb2xvciI6ICJibHVlIiwgImZpbGwiOiB0cnVlLCAiZmlsbENvbG9yIjogIiMzMTg2Y2MiLCAiZmlsbE9wYWNpdHkiOiAwLjcsICJwYXJzZUh0bWwiOiBmYWxzZSwgInJhZGl1cyI6IDV9CiAgICAgICAgICAgICkuYWRkVG8obWFwXzhkYmIxY2VkZGIwNjQzYTI5N2Y3ZmI1ZmM4MTllOGI0KTsKICAgICAgICAKICAgIAogICAgICAgIHZhciBwb3B1cF83MjRlOTI2MjA3NGI0YjU3OGUzMTdjNDFiZWU0YzVlYyA9IEwucG9wdXAoeyJtYXhXaWR0aCI6ICIxMDAlIn0pOwoKICAgICAgICAKICAgICAgICAgICAgdmFyIGh0bWxfYTgyMmM2ZDMzZDE5NGRlNzlkODFlNzMwNGE4MmUyMjUgPSAkKGA8ZGl2IGlkPSJodG1sX2E4MjJjNmQzM2QxOTRkZTc5ZDgxZTczMDRhODJlMjI1IiBzdHlsZT0id2lkdGg6IDEwMC4wJTsgaGVpZ2h0OiAxMDAuMCU7Ij5Ob3JtYW4gQmF0ZXMnIFRydW5rICBDYXRlZ29yeTogVGhlbWUgUGFyayBSaWRlIC8gQXR0cmFjdGlvbjwvZGl2PmApWzBdOwogICAgICAgICAgICBwb3B1cF83MjRlOTI2MjA3NGI0YjU3OGUzMTdjNDFiZWU0YzVlYy5zZXRDb250ZW50KGh0bWxfYTgyMmM2ZDMzZDE5NGRlNzlkODFlNzMwNGE4MmUyMjUpOwogICAgICAgIAoKICAgICAgICBtYXJrZXJfNjExNGMyMDk5OWFlNDYwN2I0Yzk2ZmRhZjJmMTUxOTEuYmluZFBvcHVwKHBvcHVwXzcyNGU5MjYyMDc0YjRiNTc4ZTMxN2M0MWJlZTRjNWVjKQogICAgICAgIDsKCiAgICAgICAgCiAgICAKICAgIAogICAgICAgICAgICB2YXIgbWFya2VyXzE2ZmQ2Y2UxYTEwYTQ2MThhOTM5Mjg2ZmQzODVlNGU4ID0gTC5tYXJrZXIoCiAgICAgICAgICAgICAgICBbMzQuMDY4NDc4NywgLTExOC4zOTg5OTQ4XSwKICAgICAgICAgICAgICAgIHsiY29sb3IiOiAiYmx1ZSIsICJmaWxsIjogdHJ1ZSwgImZpbGxDb2xvciI6ICIjMzE4NmNjIiwgImZpbGxPcGFjaXR5IjogMC43LCAicGFyc2VIdG1sIjogZmFsc2UsICJyYWRpdXMiOiA1fQogICAgICAgICAgICApLmFkZFRvKG1hcF84ZGJiMWNlZGRiMDY0M2EyOTdmN2ZiNWZjODE5ZThiNCk7CiAgICAgICAgCiAgICAKICAgICAgICB2YXIgcG9wdXBfM2NjOGMyNTRkZmZiNDY3YTk4MjgxZGU0NGZkMTMzZjAgPSBMLnBvcHVwKHsibWF4V2lkdGgiOiAiMTAwJSJ9KTsKCiAgICAgICAgCiAgICAgICAgICAgIHZhciBodG1sX2E5NThiOGUwODYyODRiYWRhNGI0ZTdhZGQzYzVmOTkyID0gJChgPGRpdiBpZD0iaHRtbF9hOTU4YjhlMDg2Mjg0YmFkYTRiNGU3YWRkM2M1Zjk5MiIgc3R5bGU9IndpZHRoOiAxMDAuMCU7IGhlaWdodDogMTAwLjAlOyI+TW9udGFnZSBCZXZlcmx5IEhpbGxzICBDYXRlZ29yeTogSG90ZWw8L2Rpdj5gKVswXTsKICAgICAgICAgICAgcG9wdXBfM2NjOGMyNTRkZmZiNDY3YTk4MjgxZGU0NGZkMTMzZjAuc2V0Q29udGVudChodG1sX2E5NThiOGUwODYyODRiYWRhNGI0ZTdhZGQzYzVmOTkyKTsKICAgICAgICAKCiAgICAgICAgbWFya2VyXzE2ZmQ2Y2UxYTEwYTQ2MThhOTM5Mjg2ZmQzODVlNGU4LmJpbmRQb3B1cChwb3B1cF8zY2M4YzI1NGRmZmI0NjdhOTgyODFkZTQ0ZmQxMzNmMCkKICAgICAgICA7CgogICAgICAgIAogICAgCiAgICAKICAgICAgICAgICAgdmFyIG1hcmtlcl9hMjNkNzllNjZhOTQ0YzE1OTFlZjMyNTFkMDlmODcxZCA9IEwubWFya2VyKAogICAgICAgICAgICAgICAgWzM0LjA2MzIzMTAyMDAyMDMzLCAtMTE4LjM1OTIzMjQxNTc3NzEzXSwKICAgICAgICAgICAgICAgIHsiY29sb3IiOiAiYmx1ZSIsICJmaWxsIjogdHJ1ZSwgImZpbGxDb2xvciI6ICIjMzE4NmNjIiwgImZpbGxPcGFjaXR5IjogMC43LCAicGFyc2VIdG1sIjogZmFsc2UsICJyYWRpdXMiOiA1fQogICAgICAgICAgICApLmFkZFRvKG1hcF84ZGJiMWNlZGRiMDY0M2EyOTdmN2ZiNWZjODE5ZThiNCk7CiAgICAgICAgCiAgICAKICAgICAgICB2YXIgcG9wdXBfNjJhNDk1M2NkMzk3NGIyMDkxODMzZmNiYzA3OTdhMWEgPSBMLnBvcHVwKHsibWF4V2lkdGgiOiAiMTAwJSJ9KTsKCiAgICAgICAgCiAgICAgICAgICAgIHZhciBodG1sXzIxMDljYWMxNzU2MTRkMTM4ZjFmZmQ3ZDBkOWUzNTA3ID0gJChgPGRpdiBpZD0iaHRtbF8yMTA5Y2FjMTc1NjE0ZDEzOGYxZmZkN2QwZDllMzUwNyIgc3R5bGU9IndpZHRoOiAxMDAuMCU7IGhlaWdodDogMTAwLjAlOyI+TG9zIEFuZ2VsZXMgQ291bnR5IE11c2V1bSBvZiBBcnQgKExBQ01BKSAgQ2F0ZWdvcnk6IEFydCBNdXNldW08L2Rpdj5gKVswXTsKICAgICAgICAgICAgcG9wdXBfNjJhNDk1M2NkMzk3NGIyMDkxODMzZmNiYzA3OTdhMWEuc2V0Q29udGVudChodG1sXzIxMDljYWMxNzU2MTRkMTM4ZjFmZmQ3ZDBkOWUzNTA3KTsKICAgICAgICAKCiAgICAgICAgbWFya2VyX2EyM2Q3OWU2NmE5NDRjMTU5MWVmMzI1MWQwOWY4NzFkLmJpbmRQb3B1cChwb3B1cF82MmE0OTUzY2QzOTc0YjIwOTE4MzNmY2JjMDc5N2ExYSkKICAgICAgICA7CgogICAgICAgIAogICAgCiAgICAKICAgICAgICAgICAgdmFyIG1hcmtlcl8zNGQwMWNhNTBhN2E0OTBmODFhZGIwZmIwYjQ2ODM1MSA9IEwubWFya2VyKAogICAgICAgICAgICAgICAgWzM0LjA0NjEwMTEyMTU0MTY3LCAtMTE4LjI1NzczMTc5Nzk1NDY4XSwKICAgICAgICAgICAgICAgIHsiY29sb3IiOiAiYmx1ZSIsICJmaWxsIjogdHJ1ZSwgImZpbGxDb2xvciI6ICIjMzE4NmNjIiwgImZpbGxPcGFjaXR5IjogMC43LCAicGFyc2VIdG1sIjogZmFsc2UsICJyYWRpdXMiOiA1fQogICAgICAgICAgICApLmFkZFRvKG1hcF84ZGJiMWNlZGRiMDY0M2EyOTdmN2ZiNWZjODE5ZThiNCk7CiAgICAgICAgCiAgICAKICAgICAgICB2YXIgcG9wdXBfM2U2YmE1MGExMGI5NGVmM2I3MmZjZTJiODExYmQxMTAgPSBMLnBvcHVwKHsibWF4V2lkdGgiOiAiMTAwJSJ9KTsKCiAgICAgICAgCiAgICAgICAgICAgIHZhciBodG1sX2MwNWM4ZTEyYWEwYTQ5Mzk5MzI2ZWQ2YmNmMWE0NTFkID0gJChgPGRpdiBpZD0iaHRtbF9jMDVjOGUxMmFhMGE0OTM5OTMyNmVkNmJjZjFhNDUxZCIgc3R5bGU9IndpZHRoOiAxMDAuMCU7IGhlaWdodDogMTAwLjAlOyI+V2hvbGUgRm9vZHMgTWFya2V0ICBDYXRlZ29yeTogR3JvY2VyeSBTdG9yZTwvZGl2PmApWzBdOwogICAgICAgICAgICBwb3B1cF8zZTZiYTUwYTEwYjk0ZWYzYjcyZmNlMmI4MTFiZDExMC5zZXRDb250ZW50KGh0bWxfYzA1YzhlMTJhYTBhNDkzOTkzMjZlZDZiY2YxYTQ1MWQpOwogICAgICAgIAoKICAgICAgICBtYXJrZXJfMzRkMDFjYTUwYTdhNDkwZjgxYWRiMGZiMGI0NjgzNTEuYmluZFBvcHVwKHBvcHVwXzNlNmJhNTBhMTBiOTRlZjNiNzJmY2UyYjgxMWJkMTEwKQogICAgICAgIDsKCiAgICAgICAgCiAgICAKICAgIAogICAgICAgICAgICB2YXIgbWFya2VyX2ViZWJmNDYwM2ZmMjRhZDdhZGQ2Y2U4OTY2MGJhYzM1ID0gTC5tYXJrZXIoCiAgICAgICAgICAgICAgICBbMzQuMTEwMTgxMTkyOTE3NzYsIC0xMTguMzUwODMxMjcwMjE3ODhdLAogICAgICAgICAgICAgICAgeyJjb2xvciI6ICJibHVlIiwgImZpbGwiOiB0cnVlLCAiZmlsbENvbG9yIjogIiMzMTg2Y2MiLCAiZmlsbE9wYWNpdHkiOiAwLjcsICJwYXJzZUh0bWwiOiBmYWxzZSwgInJhZGl1cyI6IDV9CiAgICAgICAgICAgICkuYWRkVG8obWFwXzhkYmIxY2VkZGIwNjQzYTI5N2Y3ZmI1ZmM4MTllOGI0KTsKICAgICAgICAKICAgIAogICAgICAgIHZhciBwb3B1cF8xODBmNmI5YTljOGE0YmJkYTAyYTc1MjVhNmU1MGJiMiA9IEwucG9wdXAoeyJtYXhXaWR0aCI6ICIxMDAlIn0pOwoKICAgICAgICAKICAgICAgICAgICAgdmFyIGh0bWxfOGJiZDczOWJkM2MxNDUyOGIxNzI0NDRiZmI5MzUwNTggPSAkKGA8ZGl2IGlkPSJodG1sXzhiYmQ3MzliZDNjMTQ1MjhiMTcyNDQ0YmZiOTM1MDU4IiBzdHlsZT0id2lkdGg6IDEwMC4wJTsgaGVpZ2h0OiAxMDAuMCU7Ij5SdW55b24gQ2FueW9uIFBhcmsgIENhdGVnb3J5OiBUcmFpbDwvZGl2PmApWzBdOwogICAgICAgICAgICBwb3B1cF8xODBmNmI5YTljOGE0YmJkYTAyYTc1MjVhNmU1MGJiMi5zZXRDb250ZW50KGh0bWxfOGJiZDczOWJkM2MxNDUyOGIxNzI0NDRiZmI5MzUwNTgpOwogICAgICAgIAoKICAgICAgICBtYXJrZXJfZWJlYmY0NjAzZmYyNGFkN2FkZDZjZTg5NjYwYmFjMzUuYmluZFBvcHVwKHBvcHVwXzE4MGY2YjlhOWM4YTRiYmRhMDJhNzUyNWE2ZTUwYmIyKQogICAgICAgIDsKCiAgICAgICAgCiAgICAKICAgIAogICAgICAgICAgICB2YXIgbWFya2VyX2Y3MDg3M2ZmMDU0NDQxN2VhNTBiODZiYmRiZGMyZDkyID0gTC5tYXJrZXIoCiAgICAgICAgICAgICAgICBbMzQuMTI1NzE0MDA4MjMxNTIsIC0xMTguMzMyNTE3MTQ3MDY0MjFdLAogICAgICAgICAgICAgICAgeyJjb2xvciI6ICJibHVlIiwgImZpbGwiOiB0cnVlLCAiZmlsbENvbG9yIjogIiMzMTg2Y2MiLCAiZmlsbE9wYWNpdHkiOiAwLjcsICJwYXJzZUh0bWwiOiBmYWxzZSwgInJhZGl1cyI6IDV9CiAgICAgICAgICAgICkuYWRkVG8obWFwXzhkYmIxY2VkZGIwNjQzYTI5N2Y3ZmI1ZmM4MTllOGI0KTsKICAgICAgICAKICAgIAogICAgICAgIHZhciBwb3B1cF8zOTRjZWNhZGRjYjY0MTc1ODFiYjk2YTQ3NzUxMmNjZCA9IEwucG9wdXAoeyJtYXhXaWR0aCI6ICIxMDAlIn0pOwoKICAgICAgICAKICAgICAgICAgICAgdmFyIGh0bWxfYWE5ZTZkNjFjMjU4NGZmMGFhNDgzNDczMWI5OTE3YzEgPSAkKGA8ZGl2IGlkPSJodG1sX2FhOWU2ZDYxYzI1ODRmZjBhYTQ4MzQ3MzFiOTkxN2MxIiBzdHlsZT0id2lkdGg6IDEwMC4wJTsgaGVpZ2h0OiAxMDAuMCU7Ij5MYWtlIEhvbGx5d29vZCBQYXJrICBDYXRlZ29yeTogUGFyazwvZGl2PmApWzBdOwogICAgICAgICAgICBwb3B1cF8zOTRjZWNhZGRjYjY0MTc1ODFiYjk2YTQ3NzUxMmNjZC5zZXRDb250ZW50KGh0bWxfYWE5ZTZkNjFjMjU4NGZmMGFhNDgzNDczMWI5OTE3YzEpOwogICAgICAgIAoKICAgICAgICBtYXJrZXJfZjcwODczZmYwNTQ0NDE3ZWE1MGI4NmJiZGJkYzJkOTIuYmluZFBvcHVwKHBvcHVwXzM5NGNlY2FkZGNiNjQxNzU4MWJiOTZhNDc3NTEyY2NkKQogICAgICAgIDsKCiAgICAgICAgCiAgICAKICAgIAogICAgICAgICAgICB2YXIgbWFya2VyX2U3YzI3MTNiMzljNzQyZGM5ZjlhMDcwMzM3OGJkNjE1ID0gTC5tYXJrZXIoCiAgICAgICAgICAgICAgICBbMzQuMTM4MjM4LCAtMTE4LjM1MzY0Ml0sCiAgICAgICAgICAgICAgICB7ImNvbG9yIjogImJsdWUiLCAiZmlsbCI6IHRydWUsICJmaWxsQ29sb3IiOiAiIzMxODZjYyIsICJmaWxsT3BhY2l0eSI6IDAuNywgInBhcnNlSHRtbCI6IGZhbHNlLCAicmFkaXVzIjogNX0KICAgICAgICAgICAgKS5hZGRUbyhtYXBfOGRiYjFjZWRkYjA2NDNhMjk3ZjdmYjVmYzgxOWU4YjQpOwogICAgICAgIAogICAgCiAgICAgICAgdmFyIHBvcHVwXzMwNTk5MTM5NGMxYzRhM2I4ZjI5ZjY4MzI1ZGIyZjNlID0gTC5wb3B1cCh7Im1heFdpZHRoIjogIjEwMCUifSk7CgogICAgICAgIAogICAgICAgICAgICB2YXIgaHRtbF9mZDUyNjdlNjM3NDY0MTY3YjA3ODE1ODE3MGZjZTMwOCA9ICQoYDxkaXYgaWQ9Imh0bWxfZmQ1MjY3ZTYzNzQ2NDE2N2IwNzgxNTgxNzBmY2UzMDgiIHN0eWxlPSJ3aWR0aDogMTAwLjAlOyBoZWlnaHQ6IDEwMC4wJTsiPkhhcnJ5IFBvdHRlciBhbmQgdGhlIEZvcmJpZGRlbiBKb3VybmV5ICBDYXRlZ29yeTogVGhlbWUgUGFyayBSaWRlIC8gQXR0cmFjdGlvbjwvZGl2PmApWzBdOwogICAgICAgICAgICBwb3B1cF8zMDU5OTEzOTRjMWM0YTNiOGYyOWY2ODMyNWRiMmYzZS5zZXRDb250ZW50KGh0bWxfZmQ1MjY3ZTYzNzQ2NDE2N2IwNzgxNTgxNzBmY2UzMDgpOwogICAgICAgIAoKICAgICAgICBtYXJrZXJfZTdjMjcxM2IzOWM3NDJkYzlmOWEwNzAzMzc4YmQ2MTUuYmluZFBvcHVwKHBvcHVwXzMwNTk5MTM5NGMxYzRhM2I4ZjI5ZjY4MzI1ZGIyZjNlKQogICAgICAgIDsKCiAgICAgICAgCiAgICAKICAgIAogICAgICAgICAgICB2YXIgbWFya2VyX2RjZTYzMTQ3ODI4MDQwN2I5OTRkZjkxYzFhYjVmYzdmID0gTC5tYXJrZXIoCiAgICAgICAgICAgICAgICBbMzQuMDYyNjIwMzcyMjAyMjIsIC0xMTguMzk5MjA2MzIxNjEyNDVdLAogICAgICAgICAgICAgICAgeyJjb2xvciI6ICJibHVlIiwgImZpbGwiOiB0cnVlLCAiZmlsbENvbG9yIjogIiMzMTg2Y2MiLCAiZmlsbE9wYWNpdHkiOiAwLjcsICJwYXJzZUh0bWwiOiBmYWxzZSwgInJhZGl1cyI6IDV9CiAgICAgICAgICAgICkuYWRkVG8obWFwXzhkYmIxY2VkZGIwNjQzYTI5N2Y3ZmI1ZmM4MTllOGI0KTsKICAgICAgICAKICAgIAogICAgICAgIHZhciBwb3B1cF9mZWM4YWRhNGJmY2Q0NjdhODQ5ZjM5NDlhNmM0NDUyOCA9IEwucG9wdXAoeyJtYXhXaWR0aCI6ICIxMDAlIn0pOwoKICAgICAgICAKICAgICAgICAgICAgdmFyIGh0bWxfNmIyNWIzNGI2M2I1NDE0NWFkMjgzMDI3YzM4MTc0Y2IgPSAkKGA8ZGl2IGlkPSJodG1sXzZiMjViMzRiNjNiNTQxNDVhZDI4MzAyN2MzODE3NGNiIiBzdHlsZT0id2lkdGg6IDEwMC4wJTsgaGVpZ2h0OiAxMDAuMCU7Ij5VcnRoIENhZmbDqSAgQ2F0ZWdvcnk6IENhZsOpPC9kaXY+YClbMF07CiAgICAgICAgICAgIHBvcHVwX2ZlYzhhZGE0YmZjZDQ2N2E4NDlmMzk0OWE2YzQ0NTI4LnNldENvbnRlbnQoaHRtbF82YjI1YjM0YjYzYjU0MTQ1YWQyODMwMjdjMzgxNzRjYik7CiAgICAgICAgCgogICAgICAgIG1hcmtlcl9kY2U2MzE0NzgyODA0MDdiOTk0ZGY5MWMxYWI1ZmM3Zi5iaW5kUG9wdXAocG9wdXBfZmVjOGFkYTRiZmNkNDY3YTg0OWYzOTQ5YTZjNDQ1MjgpCiAgICAgICAgOwoKICAgICAgICAKICAgIAogICAgCiAgICAgICAgICAgIHZhciBtYXJrZXJfZmZmNmU1NGQ1OTc4NDI4NjgxNTk2ZjI3YjVlOTJiN2QgPSBMLm1hcmtlcigKICAgICAgICAgICAgICAgIFszMy44NjE5MDYsIC0xMTguNDAxNjldLAogICAgICAgICAgICAgICAgeyJjb2xvciI6ICJibHVlIiwgImZpbGwiOiB0cnVlLCAiZmlsbENvbG9yIjogIiMzMTg2Y2MiLCAiZmlsbE9wYWNpdHkiOiAwLjcsICJwYXJzZUh0bWwiOiBmYWxzZSwgInJhZGl1cyI6IDV9CiAgICAgICAgICAgICkuYWRkVG8obWFwXzhkYmIxY2VkZGIwNjQzYTI5N2Y3ZmI1ZmM4MTllOGI0KTsKICAgICAgICAKICAgIAogICAgICAgIHZhciBwb3B1cF9iMjdkZTYwMDYyZDE0MWE0YmI5OGJhZjg5ZTQ3MmQwYiA9IEwucG9wdXAoeyJtYXhXaWR0aCI6ICIxMDAlIn0pOwoKICAgICAgICAKICAgICAgICAgICAgdmFyIGh0bWxfYmZjYWM5ZDRmOTdjNGY1NzljMThjOGIxODcxYjFkY2IgPSAkKGA8ZGl2IGlkPSJodG1sX2JmY2FjOWQ0Zjk3YzRmNTc5YzE4YzhiMTg3MWIxZGNiIiBzdHlsZT0id2lkdGg6IDEwMC4wJTsgaGVpZ2h0OiAxMDAuMCU7Ij5IZXJtb3NhIEJlYWNoIC0gVGhlIFN0cmFuZCAgQ2F0ZWdvcnk6IEJlYWNoPC9kaXY+YClbMF07CiAgICAgICAgICAgIHBvcHVwX2IyN2RlNjAwNjJkMTQxYTRiYjk4YmFmODllNDcyZDBiLnNldENvbnRlbnQoaHRtbF9iZmNhYzlkNGY5N2M0ZjU3OWMxOGM4YjE4NzFiMWRjYik7CiAgICAgICAgCgogICAgICAgIG1hcmtlcl9mZmY2ZTU0ZDU5Nzg0Mjg2ODE1OTZmMjdiNWU5MmI3ZC5iaW5kUG9wdXAocG9wdXBfYjI3ZGU2MDA2MmQxNDFhNGJiOThiYWY4OWU0NzJkMGIpCiAgICAgICAgOwoKICAgICAgICAKICAgIAogICAgCiAgICAgICAgICAgIHZhciBtYXJrZXJfZGFkNWY5OGMwY2IzNGFiZWI0ZWIwODgxODk3ZWEzMDYgPSBMLm1hcmtlcigKICAgICAgICAgICAgICAgIFszMy45ODM0NDAzMjQ4OTIyMywgLTExOC40NjYzMTQwMzU5MTczXSwKICAgICAgICAgICAgICAgIHsiY29sb3IiOiAiYmx1ZSIsICJmaWxsIjogdHJ1ZSwgImZpbGxDb2xvciI6ICIjMzE4NmNjIiwgImZpbGxPcGFjaXR5IjogMC43LCAicGFyc2VIdG1sIjogZmFsc2UsICJyYWRpdXMiOiA1fQogICAgICAgICAgICApLmFkZFRvKG1hcF84ZGJiMWNlZGRiMDY0M2EyOTdmN2ZiNWZjODE5ZThiNCk7CiAgICAgICAgCiAgICAKICAgICAgICB2YXIgcG9wdXBfMzZmMWEyY2I0Y2NlNDgzYTlmNzc5ZGJkMjA5YzEwOTcgPSBMLnBvcHVwKHsibWF4V2lkdGgiOiAiMTAwJSJ9KTsKCiAgICAgICAgCiAgICAgICAgICAgIHZhciBodG1sXzc1ODIwMWQ0NTVhMjRmMjVhNTI0ZGIxM2ZlMDYzNjliID0gJChgPGRpdiBpZD0iaHRtbF83NTgyMDFkNDU1YTI0ZjI1YTUyNGRiMTNmZTA2MzY5YiIgc3R5bGU9IndpZHRoOiAxMDAuMCU7IGhlaWdodDogMTAwLjAlOyI+VmVuaWNlIENhbmFscyAgQ2F0ZWdvcnk6IENhbmFsPC9kaXY+YClbMF07CiAgICAgICAgICAgIHBvcHVwXzM2ZjFhMmNiNGNjZTQ4M2E5Zjc3OWRiZDIwOWMxMDk3LnNldENvbnRlbnQoaHRtbF83NTgyMDFkNDU1YTI0ZjI1YTUyNGRiMTNmZTA2MzY5Yik7CiAgICAgICAgCgogICAgICAgIG1hcmtlcl9kYWQ1Zjk4YzBjYjM0YWJlYjRlYjA4ODE4OTdlYTMwNi5iaW5kUG9wdXAocG9wdXBfMzZmMWEyY2I0Y2NlNDgzYTlmNzc5ZGJkMjA5YzEwOTcpCiAgICAgICAgOwoKICAgICAgICAKICAgIAogICAgCiAgICAgICAgICAgIHZhciBtYXJrZXJfNThhMDhjMmVjYTBmNDljM2JiZDA2Y2QyOWU2YTE3YTUgPSBMLm1hcmtlcigKICAgICAgICAgICAgICAgIFszNC4wNTUwMzQ0MTgyMzgzOSwgLTExOC4yNDUxNzg3MzgwNjA3OV0sCiAgICAgICAgICAgICAgICB7ImNvbG9yIjogImJsdWUiLCAiZmlsbCI6IHRydWUsICJmaWxsQ29sb3IiOiAiIzMxODZjYyIsICJmaWxsT3BhY2l0eSI6IDAuNywgInBhcnNlSHRtbCI6IGZhbHNlLCAicmFkaXVzIjogNX0KICAgICAgICAgICAgKS5hZGRUbyhtYXBfOGRiYjFjZWRkYjA2NDNhMjk3ZjdmYjVmYzgxOWU4YjQpOwogICAgICAgIAogICAgCiAgICAgICAgdmFyIHBvcHVwX2ZlZDgxZjIwNGIyOTRkNGZhMWEzODJjMmU1YTk0ZjA1ID0gTC5wb3B1cCh7Im1heFdpZHRoIjogIjEwMCUifSk7CgogICAgICAgIAogICAgICAgICAgICB2YXIgaHRtbF9iNzFiZWFhNWE3NzQ0MmVhYTU4YWU2YTU1YWZiNWE1NyA9ICQoYDxkaXYgaWQ9Imh0bWxfYjcxYmVhYTVhNzc0NDJlYWE1OGFlNmE1NWFmYjVhNTciIHN0eWxlPSJ3aWR0aDogMTAwLjAlOyBoZWlnaHQ6IDEwMC4wJTsiPkdyYW5kIFBhcmsgIENhdGVnb3J5OiBQYXJrPC9kaXY+YClbMF07CiAgICAgICAgICAgIHBvcHVwX2ZlZDgxZjIwNGIyOTRkNGZhMWEzODJjMmU1YTk0ZjA1LnNldENvbnRlbnQoaHRtbF9iNzFiZWFhNWE3NzQ0MmVhYTU4YWU2YTU1YWZiNWE1Nyk7CiAgICAgICAgCgogICAgICAgIG1hcmtlcl81OGEwOGMyZWNhMGY0OWMzYmJkMDZjZDI5ZTZhMTdhNS5iaW5kUG9wdXAocG9wdXBfZmVkODFmMjA0YjI5NGQ0ZmExYTM4MmMyZTVhOTRmMDUpCiAgICAgICAgOwoKICAgICAgICAKICAgIAogICAgCiAgICAgICAgICAgIHZhciBtYXJrZXJfN2UzZWE0OGZmNDllNDQxNmJiZGQxNzRhMGRiNjJkYmEgPSBMLm1hcmtlcigKICAgICAgICAgICAgICAgIFszNC4wOTcyNjU0NTU4MjcwMywgLTExOC4zMjgxMTMyODUxOTM3XSwKICAgICAgICAgICAgICAgIHsiY29sb3IiOiAiYmx1ZSIsICJmaWxsIjogdHJ1ZSwgImZpbGxDb2xvciI6ICIjMzE4NmNjIiwgImZpbGxPcGFjaXR5IjogMC43LCAicGFyc2VIdG1sIjogZmFsc2UsICJyYWRpdXMiOiA1fQogICAgICAgICAgICApLmFkZFRvKG1hcF84ZGJiMWNlZGRiMDY0M2EyOTdmN2ZiNWZjODE5ZThiNCk7CiAgICAgICAgCiAgICAKICAgICAgICB2YXIgcG9wdXBfNzU3ZjExNTRmODQzNDNlODhhNTdhMzNiY2QwZWYyYjAgPSBMLnBvcHVwKHsibWF4V2lkdGgiOiAiMTAwJSJ9KTsKCiAgICAgICAgCiAgICAgICAgICAgIHZhciBodG1sXzQwOWU3OTBkMWVhMzRhNzY5MjczMjc2ZjRjYmJhNzEzID0gJChgPGRpdiBpZD0iaHRtbF80MDllNzkwZDFlYTM0YTc2OTI3MzI3NmY0Y2JiYTcxMyIgc3R5bGU9IndpZHRoOiAxMDAuMCU7IGhlaWdodDogMTAwLjAlOyI+QXJjTGlnaHQgQ2luZW1hcyAgQ2F0ZWdvcnk6IE11bHRpcGxleDwvZGl2PmApWzBdOwogICAgICAgICAgICBwb3B1cF83NTdmMTE1NGY4NDM0M2U4OGE1N2EzM2JjZDBlZjJiMC5zZXRDb250ZW50KGh0bWxfNDA5ZTc5MGQxZWEzNGE3NjkyNzMyNzZmNGNiYmE3MTMpOwogICAgICAgIAoKICAgICAgICBtYXJrZXJfN2UzZWE0OGZmNDllNDQxNmJiZGQxNzRhMGRiNjJkYmEuYmluZFBvcHVwKHBvcHVwXzc1N2YxMTU0Zjg0MzQzZTg4YTU3YTMzYmNkMGVmMmIwKQogICAgICAgIDsKCiAgICAgICAgCiAgICAKPC9zY3JpcHQ+\" style=\"position:absolute;width:100%;height:100%;left:0;top:0;border:none !important;\" allowfullscreen webkitallowfullscreen mozallowfullscreen></iframe></div></div>"
      ],
      "text/plain": [
       "<folium.folium.Map at 0x7fea4015d250>"
      ]
     },
     "execution_count": 25,
     "metadata": {},
     "output_type": "execute_result"
    }
   ],
   "source": [
    "# create map of Los Angeles using latitude and longitude values\n",
    "map_la = folium.Map(location=[latitude, longitude], zoom_start=11)\n",
    "\n",
    "# add markers to map\n",
    "for lat, lng, label, cat in zip(nearby_venues['lat'], nearby_venues['lng'], nearby_venues['name'], nearby_venues['category']):\n",
    "    label = folium.Popup(label+\"\\n Category: \"+ cat)\n",
    "    folium.Marker(\n",
    "         [lat, lng],\n",
    "        radius=5,\n",
    "        popup=label,\n",
    "        color='blue',\n",
    "        fill=True,\n",
    "        fill_color='#3186cc',\n",
    "        fill_opacity=0.7,\n",
    "        parse_html=False).add_to(map_la)  \n",
    "    \n",
    "map_la"
   ]
  },
  {
   "cell_type": "markdown",
   "metadata": {},
   "source": [
    "From the above map, we can infer that a majority of popular venues are located to *North-West of Los Angeles* mostly situated around **Hollywood**."
   ]
  },
  {
   "cell_type": "markdown",
   "metadata": {},
   "source": [
    "## K-Means Clustering"
   ]
  },
  {
   "cell_type": "markdown",
   "metadata": {},
   "source": [
    "We use K-means algorithm to *cluster the venues*. K-Means algorithm is one of the most common clustering methods in unsupervised learning.\n",
    "\n",
    "We will run K-Means to cluster the venues into 5 clusters as we will plan on a **5 day trip** to Los Angeles.\n"
   ]
  },
  {
   "cell_type": "code",
   "execution_count": 43,
   "metadata": {},
   "outputs": [
    {
     "data": {
      "text/plain": [
       "array([2, 2, 1, 1, 4, 1, 2, 1, 2, 2, 0, 4, 4, 0, 4, 2, 0, 2, 2, 4, 4, 0,\n",
       "       2, 2, 2, 4, 3, 1, 0, 2], dtype=int32)"
      ]
     },
     "execution_count": 43,
     "metadata": {},
     "output_type": "execute_result"
    }
   ],
   "source": [
    "from sklearn.cluster import KMeans # Importing KMeans\n",
    "\n",
    "#set number of clusters to 5\n",
    "kclusters = 5\n",
    "\n",
    "# Creating an instance of KMeans to find k clusters\n",
    "kmeans_1 = KMeans(n_clusters=kclusters)\n",
    "\n",
    "# Using fit_predict to cluster the dataset\n",
    "X = nearby_venues[['lng','lat']].values\n",
    "predictions = kmeans_1.fit_predict(X)\n",
    "predictions"
   ]
  },
  {
   "cell_type": "markdown",
   "metadata": {},
   "source": [
    "Let's create a new dataframe that includes the cluster as well as the venues."
   ]
  },
  {
   "cell_type": "code",
   "execution_count": 45,
   "metadata": {},
   "outputs": [],
   "source": [
    "clustered = pd.concat([nearby_venues.reset_index(), \n",
    "                       pd.DataFrame({'Cluster':predictions})], \n",
    "                      axis=1)"
   ]
  },
  {
   "cell_type": "code",
   "execution_count": 46,
   "metadata": {},
   "outputs": [],
   "source": [
    "clustered.drop('index', axis=1, inplace=True)"
   ]
  },
  {
   "cell_type": "code",
   "execution_count": 47,
   "metadata": {},
   "outputs": [],
   "source": [
    "conditions = [\n",
    "    clustered['Cluster'] == 0, \n",
    "    clustered['Cluster'] == 1,\n",
    "    clustered['Cluster'] == 2,\n",
    "    clustered['Cluster'] == 3,\n",
    "    clustered['Cluster'] == 4]\n",
    "days = ['Monday', 'Tuesday', 'Wednesday', 'Thursday', 'Friday']\n",
    "clustered['Vacation Day'] = np.select(conditions, days)"
   ]
  },
  {
   "cell_type": "code",
   "execution_count": 48,
   "metadata": {},
   "outputs": [
    {
     "data": {
      "text/html": [
       "<div>\n",
       "<style scoped>\n",
       "    .dataframe tbody tr th:only-of-type {\n",
       "        vertical-align: middle;\n",
       "    }\n",
       "\n",
       "    .dataframe tbody tr th {\n",
       "        vertical-align: top;\n",
       "    }\n",
       "\n",
       "    .dataframe thead th {\n",
       "        text-align: right;\n",
       "    }\n",
       "</style>\n",
       "<table border=\"1\" class=\"dataframe\">\n",
       "  <thead>\n",
       "    <tr style=\"text-align: right;\">\n",
       "      <th></th>\n",
       "      <th>name</th>\n",
       "      <th>category</th>\n",
       "      <th>lat</th>\n",
       "      <th>lng</th>\n",
       "      <th>Cluster</th>\n",
       "      <th>Vacation Day</th>\n",
       "    </tr>\n",
       "  </thead>\n",
       "  <tbody>\n",
       "    <tr>\n",
       "      <td>21</td>\n",
       "      <td>Whole Foods Market</td>\n",
       "      <td>Grocery Store</td>\n",
       "      <td>34.046101</td>\n",
       "      <td>-118.257732</td>\n",
       "      <td>0</td>\n",
       "      <td>Monday</td>\n",
       "    </tr>\n",
       "    <tr>\n",
       "      <td>10</td>\n",
       "      <td>STAPLES Center</td>\n",
       "      <td>Basketball Stadium</td>\n",
       "      <td>34.043085</td>\n",
       "      <td>-118.267191</td>\n",
       "      <td>0</td>\n",
       "      <td>Monday</td>\n",
       "    </tr>\n",
       "    <tr>\n",
       "      <td>13</td>\n",
       "      <td>Grand Central Market</td>\n",
       "      <td>Market</td>\n",
       "      <td>34.050675</td>\n",
       "      <td>-118.248741</td>\n",
       "      <td>0</td>\n",
       "      <td>Monday</td>\n",
       "    </tr>\n",
       "    <tr>\n",
       "      <td>28</td>\n",
       "      <td>Grand Park</td>\n",
       "      <td>Park</td>\n",
       "      <td>34.055034</td>\n",
       "      <td>-118.245179</td>\n",
       "      <td>0</td>\n",
       "      <td>Monday</td>\n",
       "    </tr>\n",
       "    <tr>\n",
       "      <td>16</td>\n",
       "      <td>USC Village</td>\n",
       "      <td>College Residence Hall</td>\n",
       "      <td>34.025655</td>\n",
       "      <td>-118.284652</td>\n",
       "      <td>0</td>\n",
       "      <td>Monday</td>\n",
       "    </tr>\n",
       "    <tr>\n",
       "      <td>27</td>\n",
       "      <td>Venice Canals</td>\n",
       "      <td>Canal</td>\n",
       "      <td>33.983440</td>\n",
       "      <td>-118.466314</td>\n",
       "      <td>1</td>\n",
       "      <td>Tuesday</td>\n",
       "    </tr>\n",
       "    <tr>\n",
       "      <td>2</td>\n",
       "      <td>Third Street Promenade</td>\n",
       "      <td>Shopping Plaza</td>\n",
       "      <td>34.015445</td>\n",
       "      <td>-118.496161</td>\n",
       "      <td>1</td>\n",
       "      <td>Tuesday</td>\n",
       "    </tr>\n",
       "    <tr>\n",
       "      <td>3</td>\n",
       "      <td>Venice Beach</td>\n",
       "      <td>Beach</td>\n",
       "      <td>33.986001</td>\n",
       "      <td>-118.475833</td>\n",
       "      <td>1</td>\n",
       "      <td>Tuesday</td>\n",
       "    </tr>\n",
       "    <tr>\n",
       "      <td>5</td>\n",
       "      <td>Santa Monica Place</td>\n",
       "      <td>Shopping Mall</td>\n",
       "      <td>34.013636</td>\n",
       "      <td>-118.493911</td>\n",
       "      <td>1</td>\n",
       "      <td>Tuesday</td>\n",
       "    </tr>\n",
       "    <tr>\n",
       "      <td>7</td>\n",
       "      <td>Santa Monica State Beach</td>\n",
       "      <td>State / Provincial Park</td>\n",
       "      <td>34.013090</td>\n",
       "      <td>-118.498265</td>\n",
       "      <td>1</td>\n",
       "      <td>Tuesday</td>\n",
       "    </tr>\n",
       "    <tr>\n",
       "      <td>0</td>\n",
       "      <td>Universal Studios Hollywood</td>\n",
       "      <td>Theme Park</td>\n",
       "      <td>34.136999</td>\n",
       "      <td>-118.355473</td>\n",
       "      <td>2</td>\n",
       "      <td>Wednesday</td>\n",
       "    </tr>\n",
       "    <tr>\n",
       "      <td>24</td>\n",
       "      <td>Harry Potter and the Forbidden Journey</td>\n",
       "      <td>Theme Park Ride / Attraction</td>\n",
       "      <td>34.138238</td>\n",
       "      <td>-118.353642</td>\n",
       "      <td>2</td>\n",
       "      <td>Wednesday</td>\n",
       "    </tr>\n",
       "    <tr>\n",
       "      <td>23</td>\n",
       "      <td>Lake Hollywood Park</td>\n",
       "      <td>Park</td>\n",
       "      <td>34.125714</td>\n",
       "      <td>-118.332517</td>\n",
       "      <td>2</td>\n",
       "      <td>Wednesday</td>\n",
       "    </tr>\n",
       "    <tr>\n",
       "      <td>22</td>\n",
       "      <td>Runyon Canyon Park</td>\n",
       "      <td>Trail</td>\n",
       "      <td>34.110181</td>\n",
       "      <td>-118.350831</td>\n",
       "      <td>2</td>\n",
       "      <td>Wednesday</td>\n",
       "    </tr>\n",
       "    <tr>\n",
       "      <td>18</td>\n",
       "      <td>Norman Bates' Trunk</td>\n",
       "      <td>Theme Park Ride / Attraction</td>\n",
       "      <td>34.134806</td>\n",
       "      <td>-118.345358</td>\n",
       "      <td>2</td>\n",
       "      <td>Wednesday</td>\n",
       "    </tr>\n",
       "    <tr>\n",
       "      <td>17</td>\n",
       "      <td>The Hollywood Bowl</td>\n",
       "      <td>Music Venue</td>\n",
       "      <td>34.112739</td>\n",
       "      <td>-118.338856</td>\n",
       "      <td>2</td>\n",
       "      <td>Wednesday</td>\n",
       "    </tr>\n",
       "    <tr>\n",
       "      <td>29</td>\n",
       "      <td>ArcLight Cinemas</td>\n",
       "      <td>Multiplex</td>\n",
       "      <td>34.097265</td>\n",
       "      <td>-118.328113</td>\n",
       "      <td>2</td>\n",
       "      <td>Wednesday</td>\n",
       "    </tr>\n",
       "    <tr>\n",
       "      <td>9</td>\n",
       "      <td>The Wizarding World of Harry Potter</td>\n",
       "      <td>Theme Park Ride / Attraction</td>\n",
       "      <td>34.138443</td>\n",
       "      <td>-118.354056</td>\n",
       "      <td>2</td>\n",
       "      <td>Wednesday</td>\n",
       "    </tr>\n",
       "    <tr>\n",
       "      <td>8</td>\n",
       "      <td>Griffith Observatory</td>\n",
       "      <td>Observatory</td>\n",
       "      <td>34.118342</td>\n",
       "      <td>-118.300357</td>\n",
       "      <td>2</td>\n",
       "      <td>Wednesday</td>\n",
       "    </tr>\n",
       "    <tr>\n",
       "      <td>6</td>\n",
       "      <td>Universal Studios Hollywood Globe and Fountain</td>\n",
       "      <td>Fountain</td>\n",
       "      <td>34.136558</td>\n",
       "      <td>-118.355885</td>\n",
       "      <td>2</td>\n",
       "      <td>Wednesday</td>\n",
       "    </tr>\n",
       "    <tr>\n",
       "      <td>1</td>\n",
       "      <td>Griffith Park</td>\n",
       "      <td>Park</td>\n",
       "      <td>34.135117</td>\n",
       "      <td>-118.304965</td>\n",
       "      <td>2</td>\n",
       "      <td>Wednesday</td>\n",
       "    </tr>\n",
       "    <tr>\n",
       "      <td>15</td>\n",
       "      <td>Studio Tour</td>\n",
       "      <td>Theme Park Ride / Attraction</td>\n",
       "      <td>34.138773</td>\n",
       "      <td>-118.352688</td>\n",
       "      <td>2</td>\n",
       "      <td>Wednesday</td>\n",
       "    </tr>\n",
       "    <tr>\n",
       "      <td>26</td>\n",
       "      <td>Hermosa Beach - The Strand</td>\n",
       "      <td>Beach</td>\n",
       "      <td>33.861906</td>\n",
       "      <td>-118.401690</td>\n",
       "      <td>3</td>\n",
       "      <td>Thursday</td>\n",
       "    </tr>\n",
       "    <tr>\n",
       "      <td>12</td>\n",
       "      <td>Beverly Wilshire Hotel (A Four Seasons Hotel) ...</td>\n",
       "      <td>Hotel</td>\n",
       "      <td>34.066402</td>\n",
       "      <td>-118.400691</td>\n",
       "      <td>4</td>\n",
       "      <td>Friday</td>\n",
       "    </tr>\n",
       "    <tr>\n",
       "      <td>11</td>\n",
       "      <td>Urth Caffé</td>\n",
       "      <td>Café</td>\n",
       "      <td>34.082034</td>\n",
       "      <td>-118.378766</td>\n",
       "      <td>4</td>\n",
       "      <td>Friday</td>\n",
       "    </tr>\n",
       "    <tr>\n",
       "      <td>19</td>\n",
       "      <td>Montage Beverly Hills</td>\n",
       "      <td>Hotel</td>\n",
       "      <td>34.068479</td>\n",
       "      <td>-118.398995</td>\n",
       "      <td>4</td>\n",
       "      <td>Friday</td>\n",
       "    </tr>\n",
       "    <tr>\n",
       "      <td>20</td>\n",
       "      <td>Los Angeles County Museum of Art (LACMA)</td>\n",
       "      <td>Art Museum</td>\n",
       "      <td>34.063231</td>\n",
       "      <td>-118.359232</td>\n",
       "      <td>4</td>\n",
       "      <td>Friday</td>\n",
       "    </tr>\n",
       "    <tr>\n",
       "      <td>4</td>\n",
       "      <td>The Grove</td>\n",
       "      <td>Shopping Mall</td>\n",
       "      <td>34.071964</td>\n",
       "      <td>-118.357365</td>\n",
       "      <td>4</td>\n",
       "      <td>Friday</td>\n",
       "    </tr>\n",
       "    <tr>\n",
       "      <td>25</td>\n",
       "      <td>Urth Caffé</td>\n",
       "      <td>Café</td>\n",
       "      <td>34.062620</td>\n",
       "      <td>-118.399206</td>\n",
       "      <td>4</td>\n",
       "      <td>Friday</td>\n",
       "    </tr>\n",
       "    <tr>\n",
       "      <td>14</td>\n",
       "      <td>The Original Farmers Market</td>\n",
       "      <td>Farmers Market</td>\n",
       "      <td>34.072267</td>\n",
       "      <td>-118.360071</td>\n",
       "      <td>4</td>\n",
       "      <td>Friday</td>\n",
       "    </tr>\n",
       "  </tbody>\n",
       "</table>\n",
       "</div>"
      ],
      "text/plain": [
       "                                                 name  \\\n",
       "21                                 Whole Foods Market   \n",
       "10                                     STAPLES Center   \n",
       "13                               Grand Central Market   \n",
       "28                                         Grand Park   \n",
       "16                                        USC Village   \n",
       "27                                      Venice Canals   \n",
       "2                              Third Street Promenade   \n",
       "3                                        Venice Beach   \n",
       "5                                  Santa Monica Place   \n",
       "7                            Santa Monica State Beach   \n",
       "0                         Universal Studios Hollywood   \n",
       "24             Harry Potter and the Forbidden Journey   \n",
       "23                                Lake Hollywood Park   \n",
       "22                                 Runyon Canyon Park   \n",
       "18                                Norman Bates' Trunk   \n",
       "17                                 The Hollywood Bowl   \n",
       "29                                   ArcLight Cinemas   \n",
       "9                 The Wizarding World of Harry Potter   \n",
       "8                                Griffith Observatory   \n",
       "6      Universal Studios Hollywood Globe and Fountain   \n",
       "1                                       Griffith Park   \n",
       "15                                        Studio Tour   \n",
       "26                         Hermosa Beach - The Strand   \n",
       "12  Beverly Wilshire Hotel (A Four Seasons Hotel) ...   \n",
       "11                                         Urth Caffé   \n",
       "19                              Montage Beverly Hills   \n",
       "20           Los Angeles County Museum of Art (LACMA)   \n",
       "4                                           The Grove   \n",
       "25                                         Urth Caffé   \n",
       "14                        The Original Farmers Market   \n",
       "\n",
       "                        category        lat         lng  Cluster Vacation Day  \n",
       "21                 Grocery Store  34.046101 -118.257732        0       Monday  \n",
       "10            Basketball Stadium  34.043085 -118.267191        0       Monday  \n",
       "13                        Market  34.050675 -118.248741        0       Monday  \n",
       "28                          Park  34.055034 -118.245179        0       Monday  \n",
       "16        College Residence Hall  34.025655 -118.284652        0       Monday  \n",
       "27                         Canal  33.983440 -118.466314        1      Tuesday  \n",
       "2                 Shopping Plaza  34.015445 -118.496161        1      Tuesday  \n",
       "3                          Beach  33.986001 -118.475833        1      Tuesday  \n",
       "5                  Shopping Mall  34.013636 -118.493911        1      Tuesday  \n",
       "7        State / Provincial Park  34.013090 -118.498265        1      Tuesday  \n",
       "0                     Theme Park  34.136999 -118.355473        2    Wednesday  \n",
       "24  Theme Park Ride / Attraction  34.138238 -118.353642        2    Wednesday  \n",
       "23                          Park  34.125714 -118.332517        2    Wednesday  \n",
       "22                         Trail  34.110181 -118.350831        2    Wednesday  \n",
       "18  Theme Park Ride / Attraction  34.134806 -118.345358        2    Wednesday  \n",
       "17                   Music Venue  34.112739 -118.338856        2    Wednesday  \n",
       "29                     Multiplex  34.097265 -118.328113        2    Wednesday  \n",
       "9   Theme Park Ride / Attraction  34.138443 -118.354056        2    Wednesday  \n",
       "8                    Observatory  34.118342 -118.300357        2    Wednesday  \n",
       "6                       Fountain  34.136558 -118.355885        2    Wednesday  \n",
       "1                           Park  34.135117 -118.304965        2    Wednesday  \n",
       "15  Theme Park Ride / Attraction  34.138773 -118.352688        2    Wednesday  \n",
       "26                         Beach  33.861906 -118.401690        3     Thursday  \n",
       "12                         Hotel  34.066402 -118.400691        4       Friday  \n",
       "11                          Café  34.082034 -118.378766        4       Friday  \n",
       "19                         Hotel  34.068479 -118.398995        4       Friday  \n",
       "20                    Art Museum  34.063231 -118.359232        4       Friday  \n",
       "4                  Shopping Mall  34.071964 -118.357365        4       Friday  \n",
       "25                          Café  34.062620 -118.399206        4       Friday  \n",
       "14                Farmers Market  34.072267 -118.360071        4       Friday  "
      ]
     },
     "execution_count": 48,
     "metadata": {},
     "output_type": "execute_result"
    }
   ],
   "source": [
    "clustered.sort_values(by=['Cluster'])"
   ]
  },
  {
   "cell_type": "markdown",
   "metadata": {},
   "source": [
    "Finally, let's visualize the resulting clusters"
   ]
  },
  {
   "cell_type": "code",
   "execution_count": 49,
   "metadata": {},
   "outputs": [],
   "source": [
    "# Matplotlib and associated plotting modules\n",
    "import matplotlib.cm as cm\n",
    "import matplotlib.colors as colors"
   ]
  },
  {
   "cell_type": "code",
   "execution_count": 51,
   "metadata": {},
   "outputs": [
    {
     "data": {
      "text/html": [
       "<div style=\"width:100%;\"><div style=\"position:relative;width:100%;height:0;padding-bottom:60%;\"><iframe src=\"data:text/html;charset=utf-8;base64,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\" style=\"position:absolute;width:100%;height:100%;left:0;top:0;border:none !important;\" allowfullscreen webkitallowfullscreen mozallowfullscreen></iframe></div></div>"
      ],
      "text/plain": [
       "<folium.folium.Map at 0x7fea211723d0>"
      ]
     },
     "execution_count": 51,
     "metadata": {},
     "output_type": "execute_result"
    }
   ],
   "source": [
    "# create map\n",
    "map_clusters = folium.Map(location=[latitude, longitude], zoom_start=11)\n",
    "\n",
    "# set color scheme for the clusters\n",
    "x = np.arange(kclusters)\n",
    "ys = [i + x + (i*x)**2 for i in range(kclusters)]\n",
    "colors_array = cm.rainbow(np.linspace(0, 1, len(ys)))\n",
    "rainbow = [colors.rgb2hex(i) for i in colors_array]\n",
    "\n",
    "# add markers to the map\n",
    "markers_colors = []\n",
    "for lat, lon, poi, cluster in zip(clustered['lat'], clustered['lng'], clustered['name'], clustered['Cluster']):\n",
    "    label = folium.Popup(str(poi) + '\\n Day ' + str(cluster+1), parse_html=True)\n",
    "    folium.CircleMarker(\n",
    "        [lat, lon],\n",
    "        radius=5,\n",
    "        popup=label,\n",
    "        color=rainbow[cluster-1],\n",
    "        fill=True,\n",
    "        fill_color=rainbow[cluster-1],\n",
    "        fill_opacity=0.7).add_to(map_clusters)\n",
    "       \n",
    "map_clusters"
   ]
  },
  {
   "cell_type": "markdown",
   "metadata": {},
   "source": [
    "Looking good. We can now get an idea of the most popular places to visit in Los Angeles on each of the days."
   ]
  },
  {
   "cell_type": "markdown",
   "metadata": {},
   "source": [
    "## Results <a name=\"results\"></a>"
   ]
  },
  {
   "cell_type": "markdown",
   "metadata": {},
   "source": [
    "Let's create a travel itinerary from the cluster output."
   ]
  },
  {
   "cell_type": "code",
   "execution_count": 86,
   "metadata": {},
   "outputs": [
    {
     "name": "stderr",
     "output_type": "stream",
     "text": [
      "/Users/anandhasudhan/opt/anaconda3/lib/python3.7/site-packages/ipykernel_launcher.py:11: SettingWithCopyWarning: \n",
      "A value is trying to be set on a copy of a slice from a DataFrame\n",
      "\n",
      "See the caveats in the documentation: http://pandas.pydata.org/pandas-docs/stable/user_guide/indexing.html#returning-a-view-versus-a-copy\n",
      "  # This is added back by InteractiveShellApp.init_path()\n"
     ]
    },
    {
     "data": {
      "text/html": [
       "<div>\n",
       "<style scoped>\n",
       "    .dataframe tbody tr th:only-of-type {\n",
       "        vertical-align: middle;\n",
       "    }\n",
       "\n",
       "    .dataframe tbody tr th {\n",
       "        vertical-align: top;\n",
       "    }\n",
       "\n",
       "    .dataframe thead th {\n",
       "        text-align: right;\n",
       "    }\n",
       "</style>\n",
       "<table border=\"1\" class=\"dataframe\">\n",
       "  <thead>\n",
       "    <tr style=\"text-align: right;\">\n",
       "      <th></th>\n",
       "      <th>Place of Interest/Venue</th>\n",
       "      <th>Category</th>\n",
       "      <th>Day</th>\n",
       "      <th>Vacation Day</th>\n",
       "    </tr>\n",
       "  </thead>\n",
       "  <tbody>\n",
       "    <tr>\n",
       "      <td>0</td>\n",
       "      <td>STAPLES Center</td>\n",
       "      <td>Basketball Stadium</td>\n",
       "      <td>1</td>\n",
       "      <td>Monday</td>\n",
       "    </tr>\n",
       "    <tr>\n",
       "      <td>1</td>\n",
       "      <td>USC Village</td>\n",
       "      <td>College Residence Hall</td>\n",
       "      <td>1</td>\n",
       "      <td>Monday</td>\n",
       "    </tr>\n",
       "    <tr>\n",
       "      <td>2</td>\n",
       "      <td>Whole Foods Market</td>\n",
       "      <td>Grocery Store</td>\n",
       "      <td>1</td>\n",
       "      <td>Monday</td>\n",
       "    </tr>\n",
       "    <tr>\n",
       "      <td>3</td>\n",
       "      <td>Grand Central Market</td>\n",
       "      <td>Market</td>\n",
       "      <td>1</td>\n",
       "      <td>Monday</td>\n",
       "    </tr>\n",
       "    <tr>\n",
       "      <td>4</td>\n",
       "      <td>Grand Park</td>\n",
       "      <td>Park</td>\n",
       "      <td>1</td>\n",
       "      <td>Monday</td>\n",
       "    </tr>\n",
       "    <tr>\n",
       "      <td>5</td>\n",
       "      <td>Venice Beach</td>\n",
       "      <td>Beach</td>\n",
       "      <td>2</td>\n",
       "      <td>Tuesday</td>\n",
       "    </tr>\n",
       "    <tr>\n",
       "      <td>6</td>\n",
       "      <td>Venice Canals</td>\n",
       "      <td>Canal</td>\n",
       "      <td>2</td>\n",
       "      <td>Tuesday</td>\n",
       "    </tr>\n",
       "    <tr>\n",
       "      <td>7</td>\n",
       "      <td>Santa Monica Place</td>\n",
       "      <td>Shopping Mall</td>\n",
       "      <td>2</td>\n",
       "      <td>Tuesday</td>\n",
       "    </tr>\n",
       "    <tr>\n",
       "      <td>8</td>\n",
       "      <td>Third Street Promenade</td>\n",
       "      <td>Shopping Plaza</td>\n",
       "      <td>2</td>\n",
       "      <td>Tuesday</td>\n",
       "    </tr>\n",
       "    <tr>\n",
       "      <td>9</td>\n",
       "      <td>Santa Monica State Beach</td>\n",
       "      <td>State / Provincial Park</td>\n",
       "      <td>2</td>\n",
       "      <td>Tuesday</td>\n",
       "    </tr>\n",
       "    <tr>\n",
       "      <td>10</td>\n",
       "      <td>Universal Studios Hollywood Globe and Fountain</td>\n",
       "      <td>Fountain</td>\n",
       "      <td>3</td>\n",
       "      <td>Wednesday</td>\n",
       "    </tr>\n",
       "    <tr>\n",
       "      <td>11</td>\n",
       "      <td>ArcLight Cinemas</td>\n",
       "      <td>Multiplex</td>\n",
       "      <td>3</td>\n",
       "      <td>Wednesday</td>\n",
       "    </tr>\n",
       "    <tr>\n",
       "      <td>12</td>\n",
       "      <td>The Hollywood Bowl</td>\n",
       "      <td>Music Venue</td>\n",
       "      <td>3</td>\n",
       "      <td>Wednesday</td>\n",
       "    </tr>\n",
       "    <tr>\n",
       "      <td>13</td>\n",
       "      <td>Griffith Observatory</td>\n",
       "      <td>Observatory</td>\n",
       "      <td>3</td>\n",
       "      <td>Wednesday</td>\n",
       "    </tr>\n",
       "    <tr>\n",
       "      <td>14</td>\n",
       "      <td>Griffith Park</td>\n",
       "      <td>Park</td>\n",
       "      <td>3</td>\n",
       "      <td>Wednesday</td>\n",
       "    </tr>\n",
       "    <tr>\n",
       "      <td>15</td>\n",
       "      <td>Lake Hollywood Park</td>\n",
       "      <td>Park</td>\n",
       "      <td>3</td>\n",
       "      <td>Wednesday</td>\n",
       "    </tr>\n",
       "    <tr>\n",
       "      <td>16</td>\n",
       "      <td>Universal Studios Hollywood</td>\n",
       "      <td>Theme Park</td>\n",
       "      <td>3</td>\n",
       "      <td>Wednesday</td>\n",
       "    </tr>\n",
       "    <tr>\n",
       "      <td>17</td>\n",
       "      <td>The Wizarding World of Harry Potter</td>\n",
       "      <td>Theme Park Ride / Attraction</td>\n",
       "      <td>3</td>\n",
       "      <td>Wednesday</td>\n",
       "    </tr>\n",
       "    <tr>\n",
       "      <td>18</td>\n",
       "      <td>Studio Tour</td>\n",
       "      <td>Theme Park Ride / Attraction</td>\n",
       "      <td>3</td>\n",
       "      <td>Wednesday</td>\n",
       "    </tr>\n",
       "    <tr>\n",
       "      <td>19</td>\n",
       "      <td>Norman Bates' Trunk</td>\n",
       "      <td>Theme Park Ride / Attraction</td>\n",
       "      <td>3</td>\n",
       "      <td>Wednesday</td>\n",
       "    </tr>\n",
       "    <tr>\n",
       "      <td>20</td>\n",
       "      <td>Harry Potter and the Forbidden Journey</td>\n",
       "      <td>Theme Park Ride / Attraction</td>\n",
       "      <td>3</td>\n",
       "      <td>Wednesday</td>\n",
       "    </tr>\n",
       "    <tr>\n",
       "      <td>21</td>\n",
       "      <td>Runyon Canyon Park</td>\n",
       "      <td>Trail</td>\n",
       "      <td>3</td>\n",
       "      <td>Wednesday</td>\n",
       "    </tr>\n",
       "    <tr>\n",
       "      <td>22</td>\n",
       "      <td>Hermosa Beach - The Strand</td>\n",
       "      <td>Beach</td>\n",
       "      <td>4</td>\n",
       "      <td>Thursday</td>\n",
       "    </tr>\n",
       "    <tr>\n",
       "      <td>23</td>\n",
       "      <td>Los Angeles County Museum of Art (LACMA)</td>\n",
       "      <td>Art Museum</td>\n",
       "      <td>5</td>\n",
       "      <td>Friday</td>\n",
       "    </tr>\n",
       "    <tr>\n",
       "      <td>24</td>\n",
       "      <td>Urth Caffé</td>\n",
       "      <td>Café</td>\n",
       "      <td>5</td>\n",
       "      <td>Friday</td>\n",
       "    </tr>\n",
       "    <tr>\n",
       "      <td>25</td>\n",
       "      <td>Urth Caffé</td>\n",
       "      <td>Café</td>\n",
       "      <td>5</td>\n",
       "      <td>Friday</td>\n",
       "    </tr>\n",
       "    <tr>\n",
       "      <td>26</td>\n",
       "      <td>The Original Farmers Market</td>\n",
       "      <td>Farmers Market</td>\n",
       "      <td>5</td>\n",
       "      <td>Friday</td>\n",
       "    </tr>\n",
       "    <tr>\n",
       "      <td>27</td>\n",
       "      <td>Beverly Wilshire Hotel (A Four Seasons Hotel) ...</td>\n",
       "      <td>Hotel</td>\n",
       "      <td>5</td>\n",
       "      <td>Friday</td>\n",
       "    </tr>\n",
       "    <tr>\n",
       "      <td>28</td>\n",
       "      <td>Montage Beverly Hills</td>\n",
       "      <td>Hotel</td>\n",
       "      <td>5</td>\n",
       "      <td>Friday</td>\n",
       "    </tr>\n",
       "    <tr>\n",
       "      <td>29</td>\n",
       "      <td>The Grove</td>\n",
       "      <td>Shopping Mall</td>\n",
       "      <td>5</td>\n",
       "      <td>Friday</td>\n",
       "    </tr>\n",
       "  </tbody>\n",
       "</table>\n",
       "</div>"
      ],
      "text/plain": [
       "                              Place of Interest/Venue  \\\n",
       "0                                      STAPLES Center   \n",
       "1                                         USC Village   \n",
       "2                                  Whole Foods Market   \n",
       "3                                Grand Central Market   \n",
       "4                                          Grand Park   \n",
       "5                                        Venice Beach   \n",
       "6                                       Venice Canals   \n",
       "7                                  Santa Monica Place   \n",
       "8                              Third Street Promenade   \n",
       "9                            Santa Monica State Beach   \n",
       "10     Universal Studios Hollywood Globe and Fountain   \n",
       "11                                   ArcLight Cinemas   \n",
       "12                                 The Hollywood Bowl   \n",
       "13                               Griffith Observatory   \n",
       "14                                      Griffith Park   \n",
       "15                                Lake Hollywood Park   \n",
       "16                        Universal Studios Hollywood   \n",
       "17                The Wizarding World of Harry Potter   \n",
       "18                                        Studio Tour   \n",
       "19                                Norman Bates' Trunk   \n",
       "20             Harry Potter and the Forbidden Journey   \n",
       "21                                 Runyon Canyon Park   \n",
       "22                         Hermosa Beach - The Strand   \n",
       "23           Los Angeles County Museum of Art (LACMA)   \n",
       "24                                         Urth Caffé   \n",
       "25                                         Urth Caffé   \n",
       "26                        The Original Farmers Market   \n",
       "27  Beverly Wilshire Hotel (A Four Seasons Hotel) ...   \n",
       "28                              Montage Beverly Hills   \n",
       "29                                          The Grove   \n",
       "\n",
       "                        Category  Day Vacation Day  \n",
       "0             Basketball Stadium    1       Monday  \n",
       "1         College Residence Hall    1       Monday  \n",
       "2                  Grocery Store    1       Monday  \n",
       "3                         Market    1       Monday  \n",
       "4                           Park    1       Monday  \n",
       "5                          Beach    2      Tuesday  \n",
       "6                          Canal    2      Tuesday  \n",
       "7                  Shopping Mall    2      Tuesday  \n",
       "8                 Shopping Plaza    2      Tuesday  \n",
       "9        State / Provincial Park    2      Tuesday  \n",
       "10                      Fountain    3    Wednesday  \n",
       "11                     Multiplex    3    Wednesday  \n",
       "12                   Music Venue    3    Wednesday  \n",
       "13                   Observatory    3    Wednesday  \n",
       "14                          Park    3    Wednesday  \n",
       "15                          Park    3    Wednesday  \n",
       "16                    Theme Park    3    Wednesday  \n",
       "17  Theme Park Ride / Attraction    3    Wednesday  \n",
       "18  Theme Park Ride / Attraction    3    Wednesday  \n",
       "19  Theme Park Ride / Attraction    3    Wednesday  \n",
       "20  Theme Park Ride / Attraction    3    Wednesday  \n",
       "21                         Trail    3    Wednesday  \n",
       "22                         Beach    4     Thursday  \n",
       "23                    Art Museum    5       Friday  \n",
       "24                          Café    5       Friday  \n",
       "25                          Café    5       Friday  \n",
       "26                Farmers Market    5       Friday  \n",
       "27                         Hotel    5       Friday  \n",
       "28                         Hotel    5       Friday  \n",
       "29                 Shopping Mall    5       Friday  "
      ]
     },
     "execution_count": 86,
     "metadata": {},
     "output_type": "execute_result"
    }
   ],
   "source": [
    "#Get the name, category and vacation day from the clustered output dataframe\n",
    "travel_itinerary = clustered[['name','category','Cluster','Vacation Day']]\n",
    "\n",
    "#Change column names\n",
    "travel_itinerary.columns = ['Place of Interest/Venue','Category','Day','Vacation Day']\n",
    "\n",
    "#Add one to each day value as index begins from 0\n",
    "travel_itinerary.loc[:,'Day'] = travel_itinerary['Day'] + 1\n",
    "\n",
    "#Sort venues by day and category\n",
    "travel_itinerary.sort_values(by=['Day','Category'],inplace=True)\n",
    "\n",
    "#Reset index\n",
    "travel_itinerary.reset_index(drop=True,inplace=True)\n",
    "\n",
    "#Display the travel itinerary\n",
    "travel_itinerary"
   ]
  },
  {
   "cell_type": "markdown",
   "metadata": {},
   "source": [
    "We can now use this travel itinerary as a starting point to plan our vacation accordingly. "
   ]
  },
  {
   "cell_type": "code",
   "execution_count": 88,
   "metadata": {},
   "outputs": [
    {
     "data": {
      "text/html": [
       "<div style=\"width:100%;\"><div style=\"position:relative;width:100%;height:0;padding-bottom:60%;\"><iframe src=\"data:text/html;charset=utf-8;base64,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\" style=\"position:absolute;width:100%;height:100%;left:0;top:0;border:none !important;\" allowfullscreen webkitallowfullscreen mozallowfullscreen></iframe></div></div>"
      ],
      "text/plain": [
       "<folium.folium.Map at 0x7fea211723d0>"
      ]
     },
     "execution_count": 88,
     "metadata": {},
     "output_type": "execute_result"
    }
   ],
   "source": [
    "map_clusters"
   ]
  },
  {
   "cell_type": "markdown",
   "metadata": {},
   "source": [
    "#### Day 1 (Monday)"
   ]
  },
  {
   "cell_type": "code",
   "execution_count": 87,
   "metadata": {},
   "outputs": [
    {
     "data": {
      "text/html": [
       "<div>\n",
       "<style scoped>\n",
       "    .dataframe tbody tr th:only-of-type {\n",
       "        vertical-align: middle;\n",
       "    }\n",
       "\n",
       "    .dataframe tbody tr th {\n",
       "        vertical-align: top;\n",
       "    }\n",
       "\n",
       "    .dataframe thead th {\n",
       "        text-align: right;\n",
       "    }\n",
       "</style>\n",
       "<table border=\"1\" class=\"dataframe\">\n",
       "  <thead>\n",
       "    <tr style=\"text-align: right;\">\n",
       "      <th></th>\n",
       "      <th>Place of Interest/Venue</th>\n",
       "      <th>Category</th>\n",
       "      <th>Day</th>\n",
       "      <th>Vacation Day</th>\n",
       "    </tr>\n",
       "  </thead>\n",
       "  <tbody>\n",
       "    <tr>\n",
       "      <td>0</td>\n",
       "      <td>STAPLES Center</td>\n",
       "      <td>Basketball Stadium</td>\n",
       "      <td>1</td>\n",
       "      <td>Monday</td>\n",
       "    </tr>\n",
       "    <tr>\n",
       "      <td>1</td>\n",
       "      <td>USC Village</td>\n",
       "      <td>College Residence Hall</td>\n",
       "      <td>1</td>\n",
       "      <td>Monday</td>\n",
       "    </tr>\n",
       "    <tr>\n",
       "      <td>2</td>\n",
       "      <td>Whole Foods Market</td>\n",
       "      <td>Grocery Store</td>\n",
       "      <td>1</td>\n",
       "      <td>Monday</td>\n",
       "    </tr>\n",
       "    <tr>\n",
       "      <td>3</td>\n",
       "      <td>Grand Central Market</td>\n",
       "      <td>Market</td>\n",
       "      <td>1</td>\n",
       "      <td>Monday</td>\n",
       "    </tr>\n",
       "    <tr>\n",
       "      <td>4</td>\n",
       "      <td>Grand Park</td>\n",
       "      <td>Park</td>\n",
       "      <td>1</td>\n",
       "      <td>Monday</td>\n",
       "    </tr>\n",
       "  </tbody>\n",
       "</table>\n",
       "</div>"
      ],
      "text/plain": [
       "  Place of Interest/Venue                Category  Day Vacation Day\n",
       "0          STAPLES Center      Basketball Stadium    1       Monday\n",
       "1             USC Village  College Residence Hall    1       Monday\n",
       "2      Whole Foods Market           Grocery Store    1       Monday\n",
       "3    Grand Central Market                  Market    1       Monday\n",
       "4              Grand Park                    Park    1       Monday"
      ]
     },
     "execution_count": 87,
     "metadata": {},
     "output_type": "execute_result"
    }
   ],
   "source": [
    "travel_itinerary[travel_itinerary['Day'] == 1]"
   ]
  },
  {
   "cell_type": "markdown",
   "metadata": {},
   "source": [
    "We visit Los Angeles city and popular venues in the city."
   ]
  },
  {
   "cell_type": "markdown",
   "metadata": {},
   "source": [
    "#### Day 2 (Tuesday)"
   ]
  },
  {
   "cell_type": "code",
   "execution_count": 89,
   "metadata": {},
   "outputs": [
    {
     "data": {
      "text/html": [
       "<div>\n",
       "<style scoped>\n",
       "    .dataframe tbody tr th:only-of-type {\n",
       "        vertical-align: middle;\n",
       "    }\n",
       "\n",
       "    .dataframe tbody tr th {\n",
       "        vertical-align: top;\n",
       "    }\n",
       "\n",
       "    .dataframe thead th {\n",
       "        text-align: right;\n",
       "    }\n",
       "</style>\n",
       "<table border=\"1\" class=\"dataframe\">\n",
       "  <thead>\n",
       "    <tr style=\"text-align: right;\">\n",
       "      <th></th>\n",
       "      <th>Place of Interest/Venue</th>\n",
       "      <th>Category</th>\n",
       "      <th>Day</th>\n",
       "      <th>Vacation Day</th>\n",
       "    </tr>\n",
       "  </thead>\n",
       "  <tbody>\n",
       "    <tr>\n",
       "      <td>5</td>\n",
       "      <td>Venice Beach</td>\n",
       "      <td>Beach</td>\n",
       "      <td>2</td>\n",
       "      <td>Tuesday</td>\n",
       "    </tr>\n",
       "    <tr>\n",
       "      <td>6</td>\n",
       "      <td>Venice Canals</td>\n",
       "      <td>Canal</td>\n",
       "      <td>2</td>\n",
       "      <td>Tuesday</td>\n",
       "    </tr>\n",
       "    <tr>\n",
       "      <td>7</td>\n",
       "      <td>Santa Monica Place</td>\n",
       "      <td>Shopping Mall</td>\n",
       "      <td>2</td>\n",
       "      <td>Tuesday</td>\n",
       "    </tr>\n",
       "    <tr>\n",
       "      <td>8</td>\n",
       "      <td>Third Street Promenade</td>\n",
       "      <td>Shopping Plaza</td>\n",
       "      <td>2</td>\n",
       "      <td>Tuesday</td>\n",
       "    </tr>\n",
       "    <tr>\n",
       "      <td>9</td>\n",
       "      <td>Santa Monica State Beach</td>\n",
       "      <td>State / Provincial Park</td>\n",
       "      <td>2</td>\n",
       "      <td>Tuesday</td>\n",
       "    </tr>\n",
       "  </tbody>\n",
       "</table>\n",
       "</div>"
      ],
      "text/plain": [
       "    Place of Interest/Venue                 Category  Day Vacation Day\n",
       "5              Venice Beach                    Beach    2      Tuesday\n",
       "6             Venice Canals                    Canal    2      Tuesday\n",
       "7        Santa Monica Place            Shopping Mall    2      Tuesday\n",
       "8    Third Street Promenade           Shopping Plaza    2      Tuesday\n",
       "9  Santa Monica State Beach  State / Provincial Park    2      Tuesday"
      ]
     },
     "execution_count": 89,
     "metadata": {},
     "output_type": "execute_result"
    }
   ],
   "source": [
    "travel_itinerary[travel_itinerary['Day'] == 2]"
   ]
  },
  {
   "cell_type": "markdown",
   "metadata": {},
   "source": [
    "On day 2, we visit the Venice Beach and Canals as they are close to each other. Then, proceed for shopping and finally have a relaxing evening at the Santa Monica State Beach."
   ]
  },
  {
   "cell_type": "markdown",
   "metadata": {},
   "source": [
    "#### Day 3 (Wednesday)"
   ]
  },
  {
   "cell_type": "code",
   "execution_count": 90,
   "metadata": {},
   "outputs": [
    {
     "data": {
      "text/html": [
       "<div>\n",
       "<style scoped>\n",
       "    .dataframe tbody tr th:only-of-type {\n",
       "        vertical-align: middle;\n",
       "    }\n",
       "\n",
       "    .dataframe tbody tr th {\n",
       "        vertical-align: top;\n",
       "    }\n",
       "\n",
       "    .dataframe thead th {\n",
       "        text-align: right;\n",
       "    }\n",
       "</style>\n",
       "<table border=\"1\" class=\"dataframe\">\n",
       "  <thead>\n",
       "    <tr style=\"text-align: right;\">\n",
       "      <th></th>\n",
       "      <th>Place of Interest/Venue</th>\n",
       "      <th>Category</th>\n",
       "      <th>Day</th>\n",
       "      <th>Vacation Day</th>\n",
       "    </tr>\n",
       "  </thead>\n",
       "  <tbody>\n",
       "    <tr>\n",
       "      <td>10</td>\n",
       "      <td>Universal Studios Hollywood Globe and Fountain</td>\n",
       "      <td>Fountain</td>\n",
       "      <td>3</td>\n",
       "      <td>Wednesday</td>\n",
       "    </tr>\n",
       "    <tr>\n",
       "      <td>11</td>\n",
       "      <td>ArcLight Cinemas</td>\n",
       "      <td>Multiplex</td>\n",
       "      <td>3</td>\n",
       "      <td>Wednesday</td>\n",
       "    </tr>\n",
       "    <tr>\n",
       "      <td>12</td>\n",
       "      <td>The Hollywood Bowl</td>\n",
       "      <td>Music Venue</td>\n",
       "      <td>3</td>\n",
       "      <td>Wednesday</td>\n",
       "    </tr>\n",
       "    <tr>\n",
       "      <td>13</td>\n",
       "      <td>Griffith Observatory</td>\n",
       "      <td>Observatory</td>\n",
       "      <td>3</td>\n",
       "      <td>Wednesday</td>\n",
       "    </tr>\n",
       "    <tr>\n",
       "      <td>14</td>\n",
       "      <td>Griffith Park</td>\n",
       "      <td>Park</td>\n",
       "      <td>3</td>\n",
       "      <td>Wednesday</td>\n",
       "    </tr>\n",
       "    <tr>\n",
       "      <td>15</td>\n",
       "      <td>Lake Hollywood Park</td>\n",
       "      <td>Park</td>\n",
       "      <td>3</td>\n",
       "      <td>Wednesday</td>\n",
       "    </tr>\n",
       "    <tr>\n",
       "      <td>16</td>\n",
       "      <td>Universal Studios Hollywood</td>\n",
       "      <td>Theme Park</td>\n",
       "      <td>3</td>\n",
       "      <td>Wednesday</td>\n",
       "    </tr>\n",
       "    <tr>\n",
       "      <td>17</td>\n",
       "      <td>The Wizarding World of Harry Potter</td>\n",
       "      <td>Theme Park Ride / Attraction</td>\n",
       "      <td>3</td>\n",
       "      <td>Wednesday</td>\n",
       "    </tr>\n",
       "    <tr>\n",
       "      <td>18</td>\n",
       "      <td>Studio Tour</td>\n",
       "      <td>Theme Park Ride / Attraction</td>\n",
       "      <td>3</td>\n",
       "      <td>Wednesday</td>\n",
       "    </tr>\n",
       "    <tr>\n",
       "      <td>19</td>\n",
       "      <td>Norman Bates' Trunk</td>\n",
       "      <td>Theme Park Ride / Attraction</td>\n",
       "      <td>3</td>\n",
       "      <td>Wednesday</td>\n",
       "    </tr>\n",
       "    <tr>\n",
       "      <td>20</td>\n",
       "      <td>Harry Potter and the Forbidden Journey</td>\n",
       "      <td>Theme Park Ride / Attraction</td>\n",
       "      <td>3</td>\n",
       "      <td>Wednesday</td>\n",
       "    </tr>\n",
       "    <tr>\n",
       "      <td>21</td>\n",
       "      <td>Runyon Canyon Park</td>\n",
       "      <td>Trail</td>\n",
       "      <td>3</td>\n",
       "      <td>Wednesday</td>\n",
       "    </tr>\n",
       "  </tbody>\n",
       "</table>\n",
       "</div>"
      ],
      "text/plain": [
       "                           Place of Interest/Venue  \\\n",
       "10  Universal Studios Hollywood Globe and Fountain   \n",
       "11                                ArcLight Cinemas   \n",
       "12                              The Hollywood Bowl   \n",
       "13                            Griffith Observatory   \n",
       "14                                   Griffith Park   \n",
       "15                             Lake Hollywood Park   \n",
       "16                     Universal Studios Hollywood   \n",
       "17             The Wizarding World of Harry Potter   \n",
       "18                                     Studio Tour   \n",
       "19                             Norman Bates' Trunk   \n",
       "20          Harry Potter and the Forbidden Journey   \n",
       "21                              Runyon Canyon Park   \n",
       "\n",
       "                        Category  Day Vacation Day  \n",
       "10                      Fountain    3    Wednesday  \n",
       "11                     Multiplex    3    Wednesday  \n",
       "12                   Music Venue    3    Wednesday  \n",
       "13                   Observatory    3    Wednesday  \n",
       "14                          Park    3    Wednesday  \n",
       "15                          Park    3    Wednesday  \n",
       "16                    Theme Park    3    Wednesday  \n",
       "17  Theme Park Ride / Attraction    3    Wednesday  \n",
       "18  Theme Park Ride / Attraction    3    Wednesday  \n",
       "19  Theme Park Ride / Attraction    3    Wednesday  \n",
       "20  Theme Park Ride / Attraction    3    Wednesday  \n",
       "21                         Trail    3    Wednesday  "
      ]
     },
     "execution_count": 90,
     "metadata": {},
     "output_type": "execute_result"
    }
   ],
   "source": [
    "travel_itinerary[travel_itinerary['Day'] == 3]"
   ]
  },
  {
   "cell_type": "markdown",
   "metadata": {},
   "source": [
    "Wednesday can be reserved for a visit to the famous Universal Studios Hollywood and attractions nearby. A solid day can be spent at the Universal studios."
   ]
  },
  {
   "cell_type": "markdown",
   "metadata": {},
   "source": [
    "#### Day 4 (Thursday)"
   ]
  },
  {
   "cell_type": "code",
   "execution_count": 91,
   "metadata": {},
   "outputs": [
    {
     "data": {
      "text/html": [
       "<div>\n",
       "<style scoped>\n",
       "    .dataframe tbody tr th:only-of-type {\n",
       "        vertical-align: middle;\n",
       "    }\n",
       "\n",
       "    .dataframe tbody tr th {\n",
       "        vertical-align: top;\n",
       "    }\n",
       "\n",
       "    .dataframe thead th {\n",
       "        text-align: right;\n",
       "    }\n",
       "</style>\n",
       "<table border=\"1\" class=\"dataframe\">\n",
       "  <thead>\n",
       "    <tr style=\"text-align: right;\">\n",
       "      <th></th>\n",
       "      <th>Place of Interest/Venue</th>\n",
       "      <th>Category</th>\n",
       "      <th>Day</th>\n",
       "      <th>Vacation Day</th>\n",
       "    </tr>\n",
       "  </thead>\n",
       "  <tbody>\n",
       "    <tr>\n",
       "      <td>22</td>\n",
       "      <td>Hermosa Beach - The Strand</td>\n",
       "      <td>Beach</td>\n",
       "      <td>4</td>\n",
       "      <td>Thursday</td>\n",
       "    </tr>\n",
       "  </tbody>\n",
       "</table>\n",
       "</div>"
      ],
      "text/plain": [
       "       Place of Interest/Venue Category  Day Vacation Day\n",
       "22  Hermosa Beach - The Strand    Beach    4     Thursday"
      ]
     },
     "execution_count": 91,
     "metadata": {},
     "output_type": "execute_result"
    }
   ],
   "source": [
    "travel_itinerary[travel_itinerary['Day'] == 4]"
   ]
  },
  {
   "cell_type": "markdown",
   "metadata": {},
   "source": [
    "On Day 4, we can travel to the Hermosa Beach and spend some time there. It certainly involves some travel getting to the Hermosa Beach. Hence, you might end up spending the whole day at the beach."
   ]
  },
  {
   "cell_type": "markdown",
   "metadata": {},
   "source": [
    "#### Day 5 (Friday)"
   ]
  },
  {
   "cell_type": "code",
   "execution_count": 93,
   "metadata": {},
   "outputs": [
    {
     "data": {
      "text/html": [
       "<div>\n",
       "<style scoped>\n",
       "    .dataframe tbody tr th:only-of-type {\n",
       "        vertical-align: middle;\n",
       "    }\n",
       "\n",
       "    .dataframe tbody tr th {\n",
       "        vertical-align: top;\n",
       "    }\n",
       "\n",
       "    .dataframe thead th {\n",
       "        text-align: right;\n",
       "    }\n",
       "</style>\n",
       "<table border=\"1\" class=\"dataframe\">\n",
       "  <thead>\n",
       "    <tr style=\"text-align: right;\">\n",
       "      <th></th>\n",
       "      <th>Place of Interest/Venue</th>\n",
       "      <th>Category</th>\n",
       "      <th>Day</th>\n",
       "      <th>Vacation Day</th>\n",
       "    </tr>\n",
       "  </thead>\n",
       "  <tbody>\n",
       "    <tr>\n",
       "      <td>23</td>\n",
       "      <td>Los Angeles County Museum of Art (LACMA)</td>\n",
       "      <td>Art Museum</td>\n",
       "      <td>5</td>\n",
       "      <td>Friday</td>\n",
       "    </tr>\n",
       "    <tr>\n",
       "      <td>24</td>\n",
       "      <td>Urth Caffé</td>\n",
       "      <td>Café</td>\n",
       "      <td>5</td>\n",
       "      <td>Friday</td>\n",
       "    </tr>\n",
       "    <tr>\n",
       "      <td>25</td>\n",
       "      <td>Urth Caffé</td>\n",
       "      <td>Café</td>\n",
       "      <td>5</td>\n",
       "      <td>Friday</td>\n",
       "    </tr>\n",
       "    <tr>\n",
       "      <td>26</td>\n",
       "      <td>The Original Farmers Market</td>\n",
       "      <td>Farmers Market</td>\n",
       "      <td>5</td>\n",
       "      <td>Friday</td>\n",
       "    </tr>\n",
       "    <tr>\n",
       "      <td>27</td>\n",
       "      <td>Beverly Wilshire Hotel (A Four Seasons Hotel) ...</td>\n",
       "      <td>Hotel</td>\n",
       "      <td>5</td>\n",
       "      <td>Friday</td>\n",
       "    </tr>\n",
       "    <tr>\n",
       "      <td>28</td>\n",
       "      <td>Montage Beverly Hills</td>\n",
       "      <td>Hotel</td>\n",
       "      <td>5</td>\n",
       "      <td>Friday</td>\n",
       "    </tr>\n",
       "    <tr>\n",
       "      <td>29</td>\n",
       "      <td>The Grove</td>\n",
       "      <td>Shopping Mall</td>\n",
       "      <td>5</td>\n",
       "      <td>Friday</td>\n",
       "    </tr>\n",
       "  </tbody>\n",
       "</table>\n",
       "</div>"
      ],
      "text/plain": [
       "                              Place of Interest/Venue        Category  Day  \\\n",
       "23           Los Angeles County Museum of Art (LACMA)      Art Museum    5   \n",
       "24                                         Urth Caffé            Café    5   \n",
       "25                                         Urth Caffé            Café    5   \n",
       "26                        The Original Farmers Market  Farmers Market    5   \n",
       "27  Beverly Wilshire Hotel (A Four Seasons Hotel) ...           Hotel    5   \n",
       "28                              Montage Beverly Hills           Hotel    5   \n",
       "29                                          The Grove   Shopping Mall    5   \n",
       "\n",
       "   Vacation Day  \n",
       "23       Friday  \n",
       "24       Friday  \n",
       "25       Friday  \n",
       "26       Friday  \n",
       "27       Friday  \n",
       "28       Friday  \n",
       "29       Friday  "
      ]
     },
     "execution_count": 93,
     "metadata": {},
     "output_type": "execute_result"
    }
   ],
   "source": [
    "travel_itinerary[travel_itinerary['Day'] == 5]"
   ]
  },
  {
   "cell_type": "markdown",
   "metadata": {},
   "source": [
    "Finally, on day 5, we can choose to visit the Los Angeles County Museum of Art (LACMA), then back to shopping at The Grove and visit hotels and cafe as time allows. "
   ]
  },
  {
   "cell_type": "markdown",
   "metadata": {},
   "source": [
    "## Discussion <a name=\"discussion\"></a>"
   ]
  },
  {
   "cell_type": "markdown",
   "metadata": {},
   "source": [
    "The travel itinerary would help new travellers plan their vacation well by maximizing their time spent in enjoyment.\n",
    "\n",
    "As I mentioned before, we clustered only the 30 most popular venues in Los Angeles. If we were to spend a lot of time (weeks/months) in Los Angeles, we would certainly need more venues for clustering (to visit all popular venues). Currently, the foursquare API only returns 30 most popular venues in Los Angeles. However, we could go for a paid plan and choose to get any number of popular venues. \n",
    "\n",
    "I used the **K-means algorithm** as part of this clustering study. I set the k-value to 5 to generate 5 clusters **(for a 5-day trip itinerary)**. However, only 30 venues were used. For more detailed and accurate guidance, the data set can be expanded and the details of the venues can also be drilled.\n",
    "\n",
    "I ended the study by visualizing the data and clustering information on the Los Angeles map."
   ]
  },
  {
   "cell_type": "markdown",
   "metadata": {},
   "source": [
    "## Conclusion <a name=\"conclusion\"></a>"
   ]
  },
  {
   "cell_type": "markdown",
   "metadata": {},
   "source": [
    "In this project, I described how I generated a travel plan for a trip to Los Angeles. With Foursquare location data, and k-means, I discovered the most popular venues I could visit on each day during the trip. \n",
    "\n",
    "According to clustering, I should spend \n",
    " * one day at the Los Angeles city, \n",
    " * one day visiting Los Angeles County Museum of Art (LACMA),\n",
    " * one day at the Universal Studios Hollywood, \n",
    " * one day at the Hermosa Beach and \n",
    " * one day at the Venice beach. \n",
    " \n",
    "The above plan can be used as a starting point to plan my travel.\n",
    "\n",
    "Final decision on **venues to visit** will be made based on *available time* and *personal interest* in every recommended cluster, taking into consideration additional factors like attractiveness of each location (proximity to park or water), crowd level, and financial resources."
   ]
  }
 ],
 "metadata": {
  "kernelspec": {
   "display_name": "Python 3",
   "language": "python",
   "name": "python3"
  },
  "language_info": {
   "codemirror_mode": {
    "name": "ipython",
    "version": 3
   },
   "file_extension": ".py",
   "mimetype": "text/x-python",
   "name": "python",
   "nbconvert_exporter": "python",
   "pygments_lexer": "ipython3",
   "version": "3.7.4"
  }
 },
 "nbformat": 4,
 "nbformat_minor": 4
}
