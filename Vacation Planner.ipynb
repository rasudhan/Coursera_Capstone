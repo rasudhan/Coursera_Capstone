{
 "cells": [
  {
   "cell_type": "markdown",
   "metadata": {},
   "source": [
    "# Capstone Project - The Battle of the Neighborhoods (Week 1)\n",
    "# Vacation Planner using K-Means Clustering\n",
    "### Applied Data Science Capstone by IBM/Coursera"
   ]
  },
  {
   "cell_type": "markdown",
   "metadata": {},
   "source": [
    "## Table of contents\n",
    "* [Introduction: Business Problem](#introduction)\n",
    "* [Data](#data)\n",
    "* [Methodology](#methodology)"
   ]
  },
  {
   "cell_type": "markdown",
   "metadata": {},
   "source": [
    "\n",
    "\n",
    "## Introduction: Business Problem <a name=\"introduction\"></a>"
   ]
  },
  {
   "cell_type": "markdown",
   "metadata": {},
   "source": [
    "\n",
    "### Background\n",
    "\n",
    "Planning a trip to a destination with as many choices as Los Angeles can be intimidating. Planning is not easy. Especially when it involves traveling to unknown places. \n",
    "\n",
    "There are so many websites and guidebooks you could wade through, that the amount of information is overwhelming. So I've tried to take some of the stress out of the process by organizing the best planning resources for you all in one place. This Los Angeles Vacation Planner will help guide you through the decisions you will need to make to maximize your Los Angeles vacation, whether you are traveling on a tight budget, or looking for a luxury getaway.\n",
    "\n",
    "### Problem\n",
    "\n",
    "In this project we will try to outline optimal travel plans for a city. Specifically, this report will be targeted to travellers interested in finding **popular spots** to visit during their trip to **Los Angeles**, California.\n",
    "\n",
    "Since there are lots of scenic places and spots to visit in Los Angeles, we will try to pick **venues that are most popular in Los Angeles based on Foursquare data**. \n",
    "\n",
    "We will use our data science powers to **generate an itinerary** based on this criteria. \n",
    "\n",
    "### Interest\n",
    "This will be of interest to travellers who have never been to Los Angeles and who would like to make the best use of their time. We will help maximize their vacation with this itinerary, filled with a wide variety of attractions, activities, and dining options that will truly showcase the best of L.A.\n",
    "\n",
    "We will help travelers to plan their travel itinerary. The algorithm should be able to provide an **optimal itinerary recommendation** in terms of *distance* and *popular spots* in the city. \n",
    "\n",
    "This can be extended to any place of interest(city/country). The user can provide a desired place of interest and we will generate a travel plan for them based on popular venues in and around the place of interest."
   ]
  },
  {
   "cell_type": "markdown",
   "metadata": {},
   "source": [
    "## Data <a name=\"data\"></a>"
   ]
  },
  {
   "cell_type": "markdown",
   "metadata": {},
   "source": [
    "Considering the problem, we need to generate a travel itinerary for a trip to Los Angeles. \n",
    "We can obtain data from the following sources:\n",
    "\n",
    " * Popular venues in Los Angeles, California **(from Foursquare API)**\n",
    "\n",
    "Foursquare is a company best known for its eponymous city guide and has the most trusted, crowdsourced recommendations for the best things to eat, see, and do near you.\n",
    "\n",
    "We need to obtain and clean the data to get a list of popular venues in Los Angeles that contains the following columns:\n",
    " * Venue name, \n",
    " * Venue category, \n",
    " * Venue latitude, and \n",
    " * Venue longitude."
   ]
  },
  {
   "cell_type": "markdown",
   "metadata": {},
   "source": [
    "### Import libraries"
   ]
  },
  {
   "cell_type": "code",
   "execution_count": 14,
   "metadata": {},
   "outputs": [
    {
     "name": "stdout",
     "output_type": "stream",
     "text": [
      "Libraries imported.\n"
     ]
    }
   ],
   "source": [
    "import requests # library to handle requests\n",
    "import pandas as pd # library for data analsysis\n",
    "import numpy as np # library to handle data in a vectorized manner\n",
    "import random # library for random number generation\n",
    "\n",
    "#!conda install -c conda-forge geopy --yes \n",
    "from geopy.geocoders import Nominatim # module to convert an address into latitude and longitude values\n",
    "\n",
    "# libraries for displaying images\n",
    "from IPython.display import Image \n",
    "from IPython.core.display import HTML \n",
    "    \n",
    "# tranforming json file into a pandas dataframe library\n",
    "from pandas.io.json import json_normalize\n",
    "\n",
    "#!conda install -c conda-forge folium=0.5.0 --yes\n",
    "import folium # plotting library\n",
    "\n",
    "print('Libraries imported.')"
   ]
  },
  {
   "cell_type": "markdown",
   "metadata": {},
   "source": [
    "### Obtaining data from Foursquare"
   ]
  },
  {
   "cell_type": "code",
   "execution_count": 15,
   "metadata": {},
   "outputs": [],
   "source": [
    "# @hidden_cell\n",
    "\n",
    "CLIENT_ID = 'JX1EFM0ONRLEAUWS4G32ESMTOXODGMK50FZ4GEE3PY4MA01V' # your Foursquare ID\n",
    "CLIENT_SECRET = 'LUGQWQZRJIC4QBVPD3Z2JIJCQ0QBU1O1MBYXJTPRIQ3R0Q3G' # your Foursquare Secret\n",
    "VERSION = '20200119'"
   ]
  },
  {
   "cell_type": "code",
   "execution_count": 16,
   "metadata": {},
   "outputs": [
    {
     "name": "stdout",
     "output_type": "stream",
     "text": [
      "The coordinates of Los Angeles, CA are 34.0536909, -118.2427666\n"
     ]
    }
   ],
   "source": [
    "city = 'Los Angeles, CA'\n",
    "\n",
    "geolocator = Nominatim(user_agent=\"foursquare_agent\")\n",
    "location = geolocator.geocode(city)\n",
    "latitude = location.latitude\n",
    "longitude = location.longitude\n",
    "print(\"The coordinates of {} are {}, {}\".format(city,latitude, longitude))"
   ]
  },
  {
   "cell_type": "markdown",
   "metadata": {},
   "source": [
    "#### Define the corresponding URL to retrieve a list of popular spots"
   ]
  },
  {
   "cell_type": "code",
   "execution_count": 17,
   "metadata": {},
   "outputs": [
    {
     "name": "stdout",
     "output_type": "stream",
     "text": [
      "https://api.foursquare.com/v2/venues/explore?near=Los Angeles, CA&sortByPopularity=1&client_id=JX1EFM0ONRLEAUWS4G32ESMTOXODGMK50FZ4GEE3PY4MA01V&client_secret=LUGQWQZRJIC4QBVPD3Z2JIJCQ0QBU1O1MBYXJTPRIQ3R0Q3G&v=20200119\n"
     ]
    }
   ],
   "source": [
    "base_url = 'https://api.foursquare.com/v2/'\n",
    "url = base_url + 'venues/explore?near={}&sortByPopularity=1&client_id={}&client_secret={}&v={}'.format(city,CLIENT_ID,CLIENT_SECRET,VERSION)\n",
    "print(url)"
   ]
  },
  {
   "cell_type": "markdown",
   "metadata": {},
   "source": [
    "#### Send the GET request and parse the results"
   ]
  },
  {
   "cell_type": "code",
   "execution_count": 18,
   "metadata": {},
   "outputs": [],
   "source": [
    "results = requests.get(url).json()"
   ]
  },
  {
   "cell_type": "markdown",
   "metadata": {},
   "source": [
    "Let's define a function to get the category type"
   ]
  },
  {
   "cell_type": "code",
   "execution_count": 19,
   "metadata": {},
   "outputs": [],
   "source": [
    "# function that extracts the category of the venue\n",
    "def get_category_type(row):\n",
    "    try:\n",
    "        categories_list = row['categories']\n",
    "    except:\n",
    "        categories_list = row['venue.categories']\n",
    "        \n",
    "    if len(categories_list) == 0:\n",
    "        return None\n",
    "    else:\n",
    "        return categories_list[0]['name']"
   ]
  },
  {
   "cell_type": "markdown",
   "metadata": {},
   "source": [
    "#### Get relevant part of JSON and transform it into a *pandas* dataframe"
   ]
  },
  {
   "cell_type": "markdown",
   "metadata": {},
   "source": [
    "Now we are ready to clean the json and structure it into a *pandas* dataframe."
   ]
  },
  {
   "cell_type": "code",
   "execution_count": 20,
   "metadata": {},
   "outputs": [
    {
     "data": {
      "text/html": [
       "<div>\n",
       "<style scoped>\n",
       "    .dataframe tbody tr th:only-of-type {\n",
       "        vertical-align: middle;\n",
       "    }\n",
       "\n",
       "    .dataframe tbody tr th {\n",
       "        vertical-align: top;\n",
       "    }\n",
       "\n",
       "    .dataframe thead th {\n",
       "        text-align: right;\n",
       "    }\n",
       "</style>\n",
       "<table border=\"1\" class=\"dataframe\">\n",
       "  <thead>\n",
       "    <tr style=\"text-align: right;\">\n",
       "      <th></th>\n",
       "      <th>name</th>\n",
       "      <th>category</th>\n",
       "      <th>lat</th>\n",
       "      <th>lng</th>\n",
       "    </tr>\n",
       "  </thead>\n",
       "  <tbody>\n",
       "    <tr>\n",
       "      <td>0</td>\n",
       "      <td>Universal Studios Hollywood</td>\n",
       "      <td>Theme Park</td>\n",
       "      <td>34.136999</td>\n",
       "      <td>-118.355473</td>\n",
       "    </tr>\n",
       "    <tr>\n",
       "      <td>1</td>\n",
       "      <td>Griffith Park</td>\n",
       "      <td>Park</td>\n",
       "      <td>34.135117</td>\n",
       "      <td>-118.304965</td>\n",
       "    </tr>\n",
       "    <tr>\n",
       "      <td>2</td>\n",
       "      <td>Third Street Promenade</td>\n",
       "      <td>Shopping Plaza</td>\n",
       "      <td>34.015445</td>\n",
       "      <td>-118.496161</td>\n",
       "    </tr>\n",
       "    <tr>\n",
       "      <td>3</td>\n",
       "      <td>Venice Beach</td>\n",
       "      <td>Beach</td>\n",
       "      <td>33.986001</td>\n",
       "      <td>-118.475833</td>\n",
       "    </tr>\n",
       "    <tr>\n",
       "      <td>4</td>\n",
       "      <td>The Grove</td>\n",
       "      <td>Shopping Mall</td>\n",
       "      <td>34.071964</td>\n",
       "      <td>-118.357365</td>\n",
       "    </tr>\n",
       "  </tbody>\n",
       "</table>\n",
       "</div>"
      ],
      "text/plain": [
       "                          name        category        lat         lng\n",
       "0  Universal Studios Hollywood      Theme Park  34.136999 -118.355473\n",
       "1                Griffith Park            Park  34.135117 -118.304965\n",
       "2       Third Street Promenade  Shopping Plaza  34.015445 -118.496161\n",
       "3                 Venice Beach           Beach  33.986001 -118.475833\n",
       "4                    The Grove   Shopping Mall  34.071964 -118.357365"
      ]
     },
     "execution_count": 20,
     "metadata": {},
     "output_type": "execute_result"
    }
   ],
   "source": [
    "# assign relevant part of JSON to venues\n",
    "venues = results['response']['groups'][0]['items']\n",
    "\n",
    "# transform venues into a dataframe\n",
    "nearby_venues = json_normalize(venues)\n",
    "\n",
    "# filter columns that include venue name, categories and anything that is associated with location (lat/long)\n",
    "filtered_columns = ['venue.name', 'venue.categories', 'venue.location.lat', 'venue.location.lng']\n",
    "nearby_venues =nearby_venues.loc[:, filtered_columns]\n",
    "\n",
    "# filter the category for each row\n",
    "nearby_venues['venue.categories'] = nearby_venues.apply(get_category_type, axis=1)\n",
    "\n",
    "# clean columns\n",
    "nearby_venues.columns = [col.split(\".\")[-1] for col in nearby_venues.columns]\n",
    "nearby_venues.rename(columns={'categories':'category'},inplace=True)\n",
    "nearby_venues.head()"
   ]
  },
  {
   "cell_type": "code",
   "execution_count": 21,
   "metadata": {},
   "outputs": [
    {
     "name": "stdout",
     "output_type": "stream",
     "text": [
      "30 venues near Los Angeles, CA were returned by Foursquare.\n"
     ]
    }
   ],
   "source": [
    "print('{} venues near {} were returned by Foursquare.'.format(nearby_venues.shape[0],city))"
   ]
  },
  {
   "cell_type": "markdown",
   "metadata": {},
   "source": [
    "## Methodology <a name=\"methodology\"></a>"
   ]
  },
  {
   "cell_type": "markdown",
   "metadata": {},
   "source": [
    "In this project we will direct our efforts on preparing an itinerary with the most popular venues. We will limit our analysis to 30 most popular venues around Los Angeles.\n",
    "\n",
    "In the first step, we have collected the required **data: location and type (category) of every venue near Los Angeles**. We have also **identified most popular venues** (according to Foursquare categorization).\n",
    "\n",
    "Second step in our analysis will be exploration of '**venues**' across different areas of Los Angeles - we will use **Folium maps** to visualize the popular venues.\n",
    "\n",
    "In the third and final step, we will focus on creating **clusters of venues that are close to each other** (using **k-means clustering**) and generate a travel itinerary based on the number of travel days (vacation period)."
   ]
  },
  {
   "cell_type": "code",
   "execution_count": null,
   "metadata": {},
   "outputs": [],
   "source": []
  }
 ],
 "metadata": {
  "kernelspec": {
   "display_name": "Python 3",
   "language": "python",
   "name": "python3"
  },
  "language_info": {
   "codemirror_mode": {
    "name": "ipython",
    "version": 3
   },
   "file_extension": ".py",
   "mimetype": "text/x-python",
   "name": "python",
   "nbconvert_exporter": "python",
   "pygments_lexer": "ipython3",
   "version": "3.7.4"
  }
 },
 "nbformat": 4,
 "nbformat_minor": 4
}
